{
  "nbformat": 4,
  "nbformat_minor": 0,
  "metadata": {
    "colab": {
      "provenance": []
    },
    "kernelspec": {
      "name": "python3",
      "display_name": "Python 3"
    },
    "language_info": {
      "name": "python"
    }
  },
  "cells": [
    {
      "cell_type": "markdown",
      "source": [
        "3.Explain the difference between a function definition and a function call"
      ],
      "metadata": {
        "id": "Ja_ytv-WtXsF"
      }
    },
    {
      "cell_type": "markdown",
      "source": [
        "The difference between a function definition and a function call lies in their purpose and role in a Python program."
      ],
      "metadata": {
        "id": "lByl5zG0tbyS"
      }
    },
    {
      "cell_type": "markdown",
      "source": [
        "FUNCTION:\n",
        "\n",
        "\n",
        "Purpose: A function definition is where you specify what the function does. It defines the function's name, parameters, and the block of code (function body) that executes when the function is called.\n",
        "\n",
        "Role: The function definition is like creating a blueprint or a recipe. It doesn't actually execute the function's code but simply tells Python what the function is supposed to do when it is called later."
      ],
      "metadata": {
        "id": "ErhU10RMtkO0"
      }
    },
    {
      "cell_type": "code",
      "source": [],
      "metadata": {
        "id": "ytMcfP6ntale"
      },
      "execution_count": null,
      "outputs": []
    },
    {
      "cell_type": "markdown",
      "source": [
        "Function Call\n",
        "\n",
        "\n",
        "Purpose: A function call is when you actually use the function by executing the code defined within it. You do this by writing the function's name followed by parentheses, possibly with arguments inside them.\n",
        "\n",
        "\n",
        "Role: The function call is like using the blueprint or recipe to create something. When you call a function, Python runs the code inside the function's body and returns the result (if any)."
      ],
      "metadata": {
        "id": "qz5NfFX_ts3f"
      }
    },
    {
      "cell_type": "code",
      "source": [
        "#code\n",
        "#function defintion\n",
        "def greet(name):\n",
        "    \"\"\"This function greets the person whose name is passed as an argument.\"\"\"\n",
        "    return f\"Hello, {name}!\"\n",
        "\n",
        "#funcction call\n",
        "message = greet(\"Sai Kiran\")\n",
        "print(message)\n",
        "\n"
      ],
      "metadata": {
        "colab": {
          "base_uri": "https://localhost:8080/"
        },
        "id": "uDKufQtmtwFC",
        "outputId": "4677cd08-71f2-40df-afb6-664badc1df15"
      },
      "execution_count": null,
      "outputs": [
        {
          "output_type": "stream",
          "name": "stdout",
          "text": [
            "Hello, Sai Kiran!\n"
          ]
        }
      ]
    },
    {
      "cell_type": "markdown",
      "source": [
        "4.Write a Python program that defines a function to calculate the sum of two numbers and then calls the function."
      ],
      "metadata": {
        "id": "Z7kKm5r8uBgg"
      }
    },
    {
      "cell_type": "code",
      "source": [
        "# Function definition\n",
        "def add_numbers(a, b):\n",
        "    \"\"\"This function takes two numbers and returns their sum.\"\"\"\n",
        "    return a + b\n",
        "\n",
        "# Function call\n",
        "# We call the function add_numbers with arguments 5 and 10\n",
        "result = add_numbers(5, 10)\n",
        "\n",
        "# Printing the result\n",
        "print(f\"The sum of 5 and 10 is: {result}\")\n"
      ],
      "metadata": {
        "colab": {
          "base_uri": "https://localhost:8080/"
        },
        "id": "k17Y0lZnt_Lo",
        "outputId": "fc013029-159e-4f50-ca7a-5fbf0a45cced"
      },
      "execution_count": null,
      "outputs": [
        {
          "output_type": "stream",
          "name": "stdout",
          "text": [
            "The sum of 5 and 10 is: 15\n"
          ]
        }
      ]
    },
    {
      "cell_type": "markdown",
      "source": [
        "5.What is a function signature, and what information does it typically include?"
      ],
      "metadata": {
        "id": "U5MmjZxnuK3Q"
      }
    },
    {
      "cell_type": "markdown",
      "source": [
        "A function signature in Python refers to the part of the function definition that includes the function's name, the parameters it takes, and sometimes the return type. The function signature provides essential information about how the function can be called and what kind of inputs it expects."
      ],
      "metadata": {
        "id": "dm7NgfdWuUzW"
      }
    },
    {
      "cell_type": "markdown",
      "source": [
        "Components of a Function Signature\n",
        "\n",
        "Function Name:\n",
        "\n",
        "The name you give to the function, which is used to call the function later in the code.\n",
        "Example: def add_numbers(...) -\n",
        "\n",
        " Here, add_numbers is the function name."
      ],
      "metadata": {
        "id": "2WHKrxDZuX_u"
      }
    },
    {
      "cell_type": "markdown",
      "source": [
        "Parameters (Arguments):\n",
        "\n",
        "The variables listed inside the parentheses following the function name.\n",
        "Parameters are placeholders that accept values when the function is called.\n",
        "Parameters can be mandatory or optional (with default values).\n",
        "\n",
        "Example: def add_numbers(a, b) – Here, a and b are the parameters.\n",
        "\n",
        "\n",
        "Parentheses ():\n",
        "\n",
        "The parentheses are used to enclose the parameters.\n",
        "Even if there are no parameters, the parentheses must still be present.\n",
        "Optional: Return Type (not common in\n",
        "\n",
        "\n",
        "Python but can be annotated):\n",
        "\n",
        "\n",
        "In some languages, the function signature may include the return type, indicating the type of value the function will return.\n",
        "\n",
        "In Python, return type annotations can be provided but are not required.\n",
        "\n",
        "Example with annotation: def add_numbers(a: int, b: int) -> int"
      ],
      "metadata": {
        "id": "D-eWNVQeukLp"
      }
    },
    {
      "cell_type": "markdown",
      "source": [],
      "metadata": {
        "id": "F0E3WkYfuf9E"
      }
    },
    {
      "cell_type": "code",
      "source": [
        "def multiply(x, y=1):\n",
        "    return x * y\n"
      ],
      "metadata": {
        "id": "mY3rNCiYuJSf"
      },
      "execution_count": null,
      "outputs": []
    },
    {
      "cell_type": "markdown",
      "source": [
        "Function Signature:\n",
        "\n",
        "def multiply(x, y=1)\n",
        "Function Name: multiply\n",
        "\n",
        "Parameters:\n",
        "\n",
        "x: A mandatory parameter.\n",
        "y=1: An optional parameter with a default value of 1."
      ],
      "metadata": {
        "id": "Mr1ezEblu2m_"
      }
    },
    {
      "cell_type": "code",
      "source": [],
      "metadata": {
        "id": "VKTJuFZ0vcXh"
      },
      "execution_count": null,
      "outputs": []
    },
    {
      "cell_type": "markdown",
      "source": [
        "6.Create a Python function that takes two arguments and returns their product.\n"
      ],
      "metadata": {
        "id": "17XSHeX0vW61"
      }
    },
    {
      "cell_type": "code",
      "source": [
        "# Function definition\n",
        "def multiply_numbers(a, b):\n",
        "    \"\"\"This function takes two numbers and returns their product.\"\"\"\n",
        "    return a * b\n",
        "\n",
        "# Example usage\n",
        "result = multiply_numbers(6, 7)\n",
        "print(f\"The product of 6 and 7 is: {result}\")\n"
      ],
      "metadata": {
        "colab": {
          "base_uri": "https://localhost:8080/"
        },
        "id": "3DEiTk0uu0qm",
        "outputId": "2146d1ae-8037-4097-fad7-54365b24a67c"
      },
      "execution_count": null,
      "outputs": [
        {
          "output_type": "stream",
          "name": "stdout",
          "text": [
            "The product of 6 and 7 is: 42\n"
          ]
        }
      ]
    },
    {
      "cell_type": "code",
      "source": [],
      "metadata": {
        "id": "UWxfKsFyvkRh"
      },
      "execution_count": null,
      "outputs": []
    },
    {
      "cell_type": "code",
      "source": [],
      "metadata": {
        "id": "eioth7C8vm7h"
      },
      "execution_count": null,
      "outputs": []
    },
    {
      "cell_type": "markdown",
      "source": [
        "Function Parameters and Arguments:\n"
      ],
      "metadata": {
        "id": "7SEmYYZIvnni"
      }
    },
    {
      "cell_type": "markdown",
      "source": [
        "1.Explain the concepts of formal parameters and actual arguments in Python functions.\n"
      ],
      "metadata": {
        "id": "kwK8o9r-vrQm"
      }
    },
    {
      "cell_type": "markdown",
      "source": [
        "In Python functions, formal parameters and actual arguments are terms used to describe how data is passed to and handled by functions."
      ],
      "metadata": {
        "id": "eunPR0zWvv3T"
      }
    },
    {
      "cell_type": "markdown",
      "source": [
        " Formal Parameters:\n",
        "\n",
        "\n",
        "Formal parameters are the variables listed in a function's definition. They act as placeholders that accept the values passed to the function when it is called.\n",
        "\n",
        "\n",
        "Purpose: Formal parameters define what inputs the function expects. Inside the function, these parameters are used to perform operations or calculations."
      ],
      "metadata": {
        "id": "AwkrcSaev10m"
      }
    },
    {
      "cell_type": "markdown",
      "source": [
        "Actual Arguments:\n",
        "\n",
        "\n",
        "Actual arguments are the real values or variables passed to the function when it is called. These values are assigned to the corresponding formal parameters.\n",
        "\n",
        "\n",
        "Purpose: Actual arguments provide the specific data that the function needs to execute its task."
      ],
      "metadata": {
        "id": "jP3muh6Nv8Cu"
      }
    },
    {
      "cell_type": "markdown",
      "source": [
        "working:\n",
        "\n",
        "When we call a function, the actual arguments you provide are passed to the corresponding formal parameters, allowing the function to use those values in its operations.\n"
      ],
      "metadata": {
        "id": "ofk63R8AwDKM"
      }
    },
    {
      "cell_type": "code",
      "source": [
        "#code\n",
        "\n",
        "# Function definition with formal parameters\n",
        "def add_numbers(x, y):\n",
        "    \"\"\"This function adds two numbers.\"\"\"\n",
        "    return x + y\n",
        "\n",
        "# Function call with actual arguments\n",
        "result = add_numbers(3, 5)\n",
        "print(result)\n"
      ],
      "metadata": {
        "colab": {
          "base_uri": "https://localhost:8080/"
        },
        "id": "fwf34MpkvqVH",
        "outputId": "28bf653c-6816-4aa7-e5c9-9fb8aae3340a"
      },
      "execution_count": null,
      "outputs": [
        {
          "output_type": "stream",
          "name": "stdout",
          "text": [
            "8\n"
          ]
        }
      ]
    },
    {
      "cell_type": "markdown",
      "source": [
        "2.Write a Python program that defines a function with default argument values."
      ],
      "metadata": {
        "id": "jNAd4Il8wN68"
      }
    },
    {
      "cell_type": "code",
      "source": [
        "# Function definition with default arguments\n",
        "def greet(name=\"Guest\", greeting=\"Hello\"):\n",
        "    \"\"\"This function greets a person with a given greeting.\n",
        "       If no arguments are provided, it uses default values.\"\"\"\n",
        "    return f\"{greeting}, {name}!\"\n",
        "\n",
        "# Example usage\n",
        "\n",
        "# Calling the function without any arguments\n",
        "message1 = greet()\n",
        "print(message1)\n",
        "\n",
        "# Calling the function with one argument\n",
        "message2 = greet(\"Sai Kiran\")\n",
        "print(message2)\n",
        "\n",
        "# Calling the function with both arguments\n",
        "message3 = greet(\"Sai Kiran\", \"Welcome\")\n",
        "print(message3)\n"
      ],
      "metadata": {
        "colab": {
          "base_uri": "https://localhost:8080/"
        },
        "id": "iUd3sWdkwLPX",
        "outputId": "27e151c0-5523-4ed2-9f13-eb0f93f2de70"
      },
      "execution_count": null,
      "outputs": [
        {
          "output_type": "stream",
          "name": "stdout",
          "text": [
            "Hello, Guest!\n",
            "Hello, Sai Kiran!\n",
            "Welcome, Sai Kiran!\n"
          ]
        }
      ]
    },
    {
      "cell_type": "code",
      "source": [],
      "metadata": {
        "id": "DT4wW7HJwZ3e"
      },
      "execution_count": null,
      "outputs": []
    },
    {
      "cell_type": "markdown",
      "source": [
        "3.How do you use keyword arguments in Python function calls? Provide an example.\n"
      ],
      "metadata": {
        "id": "NDhKlrcmwbH8"
      }
    },
    {
      "cell_type": "markdown",
      "source": [
        "in Python, keyword arguments allow us to pass arguments to a function by explicitly naming the parameters us want to assign values to. This enhances code readability and allows us to pass arguments in a different order than the function's parameter list."
      ],
      "metadata": {
        "id": "bs-myDwtwq2D"
      }
    },
    {
      "cell_type": "markdown",
      "source": [],
      "metadata": {
        "id": "buLNn4M7w0Z1"
      }
    },
    {
      "cell_type": "markdown",
      "source": [
        "When using keyword arguments, we specify the name of the parameter followed by an equal sign (=) and the value you want to pass. This makes the function call more explicit and easier to understand.\n",
        "\n",
        "the name of formal and actual names should be same"
      ],
      "metadata": {
        "id": "o8t6EAiaw1BY"
      }
    },
    {
      "cell_type": "code",
      "source": [
        "#code:\n",
        "# Function definition\n",
        "def describe_pet(animal_type, pet_name):\n",
        "    \"\"\"This function displays information about a pet.\"\"\"\n",
        "    print(f\"\\nI have a {animal_type}.\")\n",
        "    print(f\"My {animal_type}'s name is {pet_name}.\")\n",
        "\n",
        "# Using keyword arguments in a function call\n",
        "\n",
        "# Arguments in the order of the parameters\n",
        "describe_pet(animal_type=\"dog\", pet_name=\"Buddy\")\n",
        "\n",
        "# Arguments in a different order\n",
        "describe_pet(pet_name=\"Whiskers\", animal_type=\"cat\")\n"
      ],
      "metadata": {
        "colab": {
          "base_uri": "https://localhost:8080/"
        },
        "id": "g0SD1q_nweA-",
        "outputId": "29b14454-cc65-44af-f1e9-9b59cf3024ba"
      },
      "execution_count": null,
      "outputs": [
        {
          "output_type": "stream",
          "name": "stdout",
          "text": [
            "\n",
            "I have a dog.\n",
            "My dog's name is Buddy.\n",
            "\n",
            "I have a cat.\n",
            "My cat's name is Whiskers.\n"
          ]
        }
      ]
    },
    {
      "cell_type": "code",
      "source": [],
      "metadata": {
        "id": "r0Il20n5xTz7"
      },
      "execution_count": null,
      "outputs": []
    },
    {
      "cell_type": "markdown",
      "source": [
        "4.Create a Python function that accepts a variable number of arguments and calculates their sum.\n"
      ],
      "metadata": {
        "id": "gvdHL51fxVZu"
      }
    },
    {
      "cell_type": "code",
      "source": [
        "# Function definition that accepts a variable number of arguments\n",
        "def calculate_sum(*args):\n",
        "    \"\"\"This function returns the sum of all the arguments provided.\"\"\"\n",
        "    return sum(args)\n",
        "\n",
        "# Example usage\n",
        "\n",
        "# Calling the function with different numbers of arguments\n",
        "result1 = calculate_sum(1, 2, 3)\n",
        "result2 = calculate_sum(4, 5)\n",
        "result3 = calculate_sum(10, 20, 30, 40)\n",
        "\n",
        "# Printing the results\n",
        "print(f\"Sum of 1, 2, 3 is: {result1}\")\n",
        "print(f\"Sum of 4, 5 is: {result2}\")\n",
        "print(f\"Sum of 10, 20, 30, 40 is: {result3}\")\n"
      ],
      "metadata": {
        "colab": {
          "base_uri": "https://localhost:8080/"
        },
        "id": "EeZEVpxLxX8W",
        "outputId": "39ecae52-e3fa-432d-8fcb-cfc17bd555ca"
      },
      "execution_count": null,
      "outputs": [
        {
          "output_type": "stream",
          "name": "stdout",
          "text": [
            "Sum of 1, 2, 3 is: 6\n",
            "Sum of 4, 5 is: 9\n",
            "Sum of 10, 20, 30, 40 is: 100\n"
          ]
        }
      ]
    },
    {
      "cell_type": "code",
      "source": [],
      "metadata": {
        "id": "X3pqtGEnxeYi"
      },
      "execution_count": null,
      "outputs": []
    },
    {
      "cell_type": "markdown",
      "source": [
        "5.What is the purpose of the `*args` and `**kwargs` syntax in function parameter lists?"
      ],
      "metadata": {
        "id": "_GpZsyZOxfXa"
      }
    },
    {
      "cell_type": "markdown",
      "source": [
        "In Python, the *args and **kwargs syntax is used in function parameter lists to handle variable numbers of arguments"
      ],
      "metadata": {
        "id": "_NXCnxV0xslM"
      }
    },
    {
      "cell_type": "markdown",
      "source": [
        "*args:\n",
        "\n",
        "\n",
        " The *args syntax allows a function to accept an arbitrary number of positional arguments. This is useful when you don't know in advance how many arguments will be passed to the function.\n",
        "\n",
        "\n",
        " Inside the function, args is a tuple containing all the positional arguments passed to the function beyond those explicitly listed in the function's parameter list."
      ],
      "metadata": {
        "id": "rxyy_cbBx2UE"
      }
    },
    {
      "cell_type": "markdown",
      "source": [
        "**kwargs:\n",
        "\n",
        "\n",
        "\n",
        "The **kwargs syntax allows a function to accept an arbitrary number of keyword arguments. This is useful when you want to handle named arguments dynamically.\n",
        "\n",
        " Inside the function, kwargs is a dictionary containing all the keyword arguments passed to the function that aren't explicitly listed in the function's parameter list."
      ],
      "metadata": {
        "id": "xXMgw9X9x9PR"
      }
    },
    {
      "cell_type": "code",
      "source": [
        "#*args\n",
        "def print_numbers(*args):\n",
        "    for number in args:\n",
        "        print(number)\n",
        "\n",
        "print_numbers(1, 2, 3, 4, 5)\n",
        "\n",
        "\n",
        "\n",
        "#**kwargs\n",
        "def print_details(**kwargs):\n",
        "    for key, value in kwargs.items():\n",
        "        print(f\"{key}: {value}\")\n",
        "\n",
        "print_details(name=\"pwskills\", age=30, city=\"hyd\")\n",
        "\n",
        "\n"
      ],
      "metadata": {
        "colab": {
          "base_uri": "https://localhost:8080/"
        },
        "id": "1nAxsia0xiPN",
        "outputId": "122ddbb5-2aeb-42de-a5ea-2aaed05f5c0b"
      },
      "execution_count": null,
      "outputs": [
        {
          "output_type": "stream",
          "name": "stdout",
          "text": [
            "1\n",
            "2\n",
            "3\n",
            "4\n",
            "5\n",
            "name: pwskills\n",
            "age: 30\n",
            "city: hyd\n"
          ]
        }
      ]
    },
    {
      "cell_type": "markdown",
      "source": [
        "Return Values and Scoping:\n"
      ],
      "metadata": {
        "id": "IVgTQzCMyh37"
      }
    },
    {
      "cell_type": "markdown",
      "source": [
        "1.Describe the role of the `return` statement in Python functions and provide examples.\n"
      ],
      "metadata": {
        "id": "tkDq5NQdyl27"
      }
    },
    {
      "cell_type": "markdown",
      "source": [
        "The return statement in Python functions is used to exit the function and optionally send a value back to the caller. It plays a crucial role in controlling the output of a function and allowing it to produce results that can be used elsewhere in your code.\n"
      ],
      "metadata": {
        "id": "eHJg6JvoyqhS"
      }
    },
    {
      "cell_type": "markdown",
      "source": [
        "Role of the return Statement\n",
        "\n",
        "\n",
        "\n",
        "\n",
        "Exiting the Function:\n",
        "\n",
        "The return statement immediately terminates the function’s execution. Once return is executed, no further code in the function is run.\n",
        "\n",
        "\n",
        "\n",
        "\n",
        "\n",
        "Sending a Value Back:\n",
        "\n",
        "The value specified in the return statement is sent back to the caller of the function. This value can be used in the calling code for further operations.\n",
        "\n",
        "\n",
        "\n",
        "\n",
        "\n",
        "Returning Multiple Values:\n",
        "\n",
        "\n",
        "Python functions can return multiple values as a tuple. This is done by separating values with commas in the return statement.\n",
        "\n",
        "\n",
        "\n",
        "\n",
        "Returning None:\n",
        "\n",
        "If no return statement is present, or if return is used without an accompanying value, the function returns None by default."
      ],
      "metadata": {
        "id": "DNlKWZZ2y2Wh"
      }
    },
    {
      "cell_type": "code",
      "source": [
        "#code:\n",
        "def add(a, b):\n",
        "    \"\"\"This function returns the sum of two numbers.\"\"\"\n",
        "    return a + b\n",
        "\n",
        "# Calling the function and storing the result\n",
        "result = add(5, 3)\n",
        "print(result)\n"
      ],
      "metadata": {
        "colab": {
          "base_uri": "https://localhost:8080/"
        },
        "id": "fouw0pQVycaT",
        "outputId": "28dc833b-8895-4adc-fa7f-f9ac130b1b3c"
      },
      "execution_count": null,
      "outputs": [
        {
          "output_type": "stream",
          "name": "stdout",
          "text": [
            "8\n"
          ]
        }
      ]
    },
    {
      "cell_type": "markdown",
      "source": [
        "2.Explain the concept of variable scope in Python, including local and global variables.\n"
      ],
      "metadata": {
        "id": "AkpurT_4zMjR"
      }
    },
    {
      "cell_type": "markdown",
      "source": [
        "In Python, variable scope refers to the region of the code where a variable is accessible and can be used."
      ],
      "metadata": {
        "id": "AIXFB_SxzadV"
      }
    },
    {
      "cell_type": "markdown",
      "source": [
        "Types of Variable Scope\n",
        "\n",
        "\n",
        "\n",
        "\n",
        "Local Scope:\n",
        "\n",
        "\n",
        " Variables defined within a function or block of code are in the local scope. These variables are only accessible within the function or block where they are defined.\n",
        "\n",
        "\n",
        "Lifetime:\n",
        "\n",
        " They exist only during the execution of the function or block. Once the function or block exits, local variables are destroyed.TT"
      ],
      "metadata": {
        "id": "9vqYd0gfzeoP"
      }
    },
    {
      "cell_type": "code",
      "source": [
        "#code\n",
        "def example_function():\n",
        "    local_var = 10  # Local variable\n",
        "    print(local_var)\n",
        "\n",
        "example_function()\n",
        "# print(local_var)  # This would raise a NameError because local_var is not accessible outside the function\n"
      ],
      "metadata": {
        "colab": {
          "base_uri": "https://localhost:8080/"
        },
        "id": "lJbKVRRszKtb",
        "outputId": "fa1261fd-83ee-4980-b1f7-2fde8c8d25bb"
      },
      "execution_count": null,
      "outputs": [
        {
          "output_type": "stream",
          "name": "stdout",
          "text": [
            "10\n"
          ]
        }
      ]
    },
    {
      "cell_type": "markdown",
      "source": [
        "Global Scope:\n",
        "\n",
        " Variables defined outside of all functions and classes are in the global scope. These variables are accessible from anywhere in the code, including inside functions (unless shadowed by local variables).\n",
        "\n",
        "\n",
        "Lifetime: They exist for the duration of the program’s execution.\n"
      ],
      "metadata": {
        "id": "uemC8A_zz1JW"
      }
    },
    {
      "cell_type": "code",
      "source": [
        "#code\n",
        "global_var = 20  # Global variable\n",
        "\n",
        "def example_function():\n",
        "    print(global_var)  # Accessing global variable inside the function\n",
        "\n",
        "example_function()\n",
        "print(global_var)  # Accessing global variable outside the function\n"
      ],
      "metadata": {
        "colab": {
          "base_uri": "https://localhost:8080/"
        },
        "id": "AqFOdVGXztGC",
        "outputId": "24d06bb4-51bc-407b-a3cd-0dd4e3d74808"
      },
      "execution_count": null,
      "outputs": [
        {
          "output_type": "stream",
          "name": "stdout",
          "text": [
            "20\n",
            "20\n"
          ]
        }
      ]
    },
    {
      "cell_type": "markdown",
      "source": [
        "3.Write a Python program that demonstrates the use of global variables within functions.\n"
      ],
      "metadata": {
        "id": "C_ktNVhhz-fQ"
      }
    },
    {
      "cell_type": "code",
      "source": [
        "# Global variable definition\n",
        "counter = 0\n",
        "\n",
        "def increment_counter():\n",
        "    \"\"\"Function to increment the global counter variable.\"\"\"\n",
        "    global counter\n",
        "    counter += 1  # Modifying the global variable\n",
        "\n",
        "def print_counter():\n",
        "    \"\"\"Function to print the current value of the global counter variable.\"\"\"\n",
        "    global counter\n",
        "    print(f\"Current counter value: {counter}\")\n",
        "\n",
        "# Example usage\n",
        "print_counter()  # Initial value of the global variable\n",
        "\n",
        "increment_counter()  # Incrementing the global variable\n",
        "increment_counter()  # Incrementing the global variable again\n",
        "\n",
        "print_counter()  # Printing the updated value of the global variable\n"
      ],
      "metadata": {
        "colab": {
          "base_uri": "https://localhost:8080/"
        },
        "id": "wti3Rmkxz73Q",
        "outputId": "340f5420-4167-4459-9d06-151f31150723"
      },
      "execution_count": null,
      "outputs": [
        {
          "output_type": "stream",
          "name": "stdout",
          "text": [
            "Current counter value: 0\n",
            "Current counter value: 2\n"
          ]
        }
      ]
    },
    {
      "cell_type": "markdown",
      "source": [
        "4.Create a Python function that calculates the factorial of a number and returns it.\n"
      ],
      "metadata": {
        "id": "PJX5xYNn0fvL"
      }
    },
    {
      "cell_type": "code",
      "source": [
        "def factorial_iterative(n):\n",
        "    \"\"\"Calculate the factorial of a number using an iterative approach.\"\"\"\n",
        "    if n < 0:\n",
        "        raise ValueError(\"Factorial is not defined for negative numbers\")\n",
        "\n",
        "    result = 1\n",
        "    for i in range(1, n + 1):\n",
        "        result *= i\n",
        "    return result\n",
        "\n",
        "# Example usage\n",
        "print(factorial_iterative(5))\n",
        "print(factorial_iterative(0))\n"
      ],
      "metadata": {
        "colab": {
          "base_uri": "https://localhost:8080/"
        },
        "id": "tbzl-W880e3M",
        "outputId": "0494c00f-ccef-4857-ae8f-12b230ce49f1"
      },
      "execution_count": null,
      "outputs": [
        {
          "output_type": "stream",
          "name": "stdout",
          "text": [
            "120\n",
            "1\n"
          ]
        }
      ]
    },
    {
      "cell_type": "markdown",
      "source": [
        "5.How can you access variables defined outside a function from within the function?\n"
      ],
      "metadata": {
        "id": "UNe1gZBD0wDc"
      }
    },
    {
      "cell_type": "markdown",
      "source": [
        "To access variables defined outside a function from within the function in Python, we can use global variables. These variables are defined in the global scope, which means they are accessible from anywhere in the script, including inside functions. However, if you want to modify a global variable within a function, we need to use the global keyword."
      ],
      "metadata": {
        "id": "Uedd_6O404eh"
      }
    },
    {
      "cell_type": "code",
      "source": [
        "#accessing global variable\n",
        "# Global variable\n",
        "global_var = \"Hello, World!\"\n",
        "\n",
        "def print_global():\n",
        "    \"\"\"Function to access a global variable.\"\"\"\n",
        "    print(global_var)\n",
        "\n",
        "# Calling the function\n",
        "print_global()  # Output: Hello, World!\n"
      ],
      "metadata": {
        "colab": {
          "base_uri": "https://localhost:8080/"
        },
        "id": "LrosYllP0vHa",
        "outputId": "36517ebe-5298-4c6a-e548-1cb50385eca7"
      },
      "execution_count": null,
      "outputs": [
        {
          "output_type": "stream",
          "name": "stdout",
          "text": [
            "Hello, World!\n"
          ]
        }
      ]
    },
    {
      "cell_type": "markdown",
      "source": [
        "if we  want to modify a global variable within a function, we need to declare it as global within the function. This tells Python that you’re referring to the global variable, not creating a local one."
      ],
      "metadata": {
        "id": "n7ErxjYX1NwF"
      }
    },
    {
      "cell_type": "code",
      "source": [
        "# Global variable\n",
        "global_var = 10\n",
        "\n",
        "def increment_global():\n",
        "    \"\"\"Function to modify a global variable.\"\"\"\n",
        "    global global_var\n",
        "    global_var += 5\n",
        "\n",
        "# Calling the function\n",
        "increment_global()\n",
        "print(global_var)  # Output: 15\n"
      ],
      "metadata": {
        "colab": {
          "base_uri": "https://localhost:8080/"
        },
        "id": "kPq8_lyg1M29",
        "outputId": "3361b244-7bf0-4212-d701-dbb145e6e692"
      },
      "execution_count": null,
      "outputs": [
        {
          "output_type": "stream",
          "name": "stdout",
          "text": [
            "15\n"
          ]
        }
      ]
    },
    {
      "cell_type": "markdown",
      "source": [
        "Lambda Functions and Higher-Order Functions"
      ],
      "metadata": {
        "id": "BxwBFwxL2u5A"
      }
    },
    {
      "cell_type": "markdown",
      "source": [
        "1.What are lambda functions in Python, and when are they typically used?\n"
      ],
      "metadata": {
        "id": "sOS1pOn72waX"
      }
    },
    {
      "cell_type": "markdown",
      "source": [
        "Lambda functions in Python are small, anonymous functions defined using the lambda keyword. Unlike regular functions defined with def, lambda functions are usually limited to a single expression. They are useful for situations where a simple function is needed temporarily, and defining a full function with def might be overkill."
      ],
      "metadata": {
        "id": "qRxxX3aw25VD"
      }
    },
    {
      "cell_type": "markdown",
      "source": [
        "Syntax of Lambda Function\n",
        "\n",
        "lambda arguments: expression\n"
      ],
      "metadata": {
        "id": "QzhBdhz028Bv"
      }
    },
    {
      "cell_type": "markdown",
      "source": [
        "lambda: Keyword to define the lambda function.\n",
        "\n",
        "arguments: Comma-separated list of parameters.\n",
        "\n",
        "expression: Single expression that is evaluated and returned by the function."
      ],
      "metadata": {
        "id": "PrgD9UHq3BJU"
      }
    },
    {
      "cell_type": "code",
      "source": [
        "#code\n",
        "# Lambda function to add two numbers\n",
        "add = lambda x, y: x + y\n",
        "\n",
        "# Calling the lambda function\n",
        "result = add(5, 3)\n",
        "print(result)  # Output: 8\n"
      ],
      "metadata": {
        "colab": {
          "base_uri": "https://localhost:8080/"
        },
        "id": "lWwjG5ib1T18",
        "outputId": "63009877-04d7-414d-c26f-72c71da407cb"
      },
      "execution_count": null,
      "outputs": [
        {
          "output_type": "stream",
          "name": "stdout",
          "text": [
            "8\n"
          ]
        }
      ]
    },
    {
      "cell_type": "markdown",
      "source": [
        "Typical Uses of Lambda Functions\n",
        "\n",
        "Short-lived Functions:\n",
        "\n",
        "Use Case: When a function is needed for a short duration, such as within a higher-order function (e.g., map, filter, or sorted).\n",
        "\n"
      ],
      "metadata": {
        "id": "Zo32xfTH3be5"
      }
    },
    {
      "cell_type": "code",
      "source": [
        "#code\n",
        "#map function\n",
        "numbers = [1, 2, 3, 4, 5]\n",
        "squared = list(map(lambda x: x ** 2, numbers))\n",
        "print(squared)\n",
        "\n"
      ],
      "metadata": {
        "colab": {
          "base_uri": "https://localhost:8080/"
        },
        "id": "4FW7XlwY3Ju2",
        "outputId": "5edce1d3-fa78-4ace-c657-6e162a76ac42"
      },
      "execution_count": null,
      "outputs": [
        {
          "output_type": "stream",
          "name": "stdout",
          "text": [
            "[1, 4, 9, 16, 25]\n"
          ]
        }
      ]
    },
    {
      "cell_type": "markdown",
      "source": [
        "3.Explain the concept of higher-order functions in Python, and provide an example.\n"
      ],
      "metadata": {
        "id": "juodjEeU3Wzc"
      }
    },
    {
      "cell_type": "markdown",
      "source": [
        "In Python, higher-order functions are functions that can take other functions as arguments or return functions as results. This concept allows for more flexible and abstract programming, enabling the creation of more generalized and reusable code."
      ],
      "metadata": {
        "id": "G7B2RMMC33Ja"
      }
    },
    {
      "cell_type": "markdown",
      "source": [
        "Key Characteristics of Higher-Order Functions:\n",
        "\n",
        "\n",
        "Accepting Functions as Arguments:\n",
        "\n",
        "A higher-order function can take one or more functions as input parameters. This allows you to pass functions into other functions to be applied to data or results.\n",
        "\n",
        "\n",
        "Returning Functions:\n",
        "\n",
        "A higher-order function can return a new function."
      ],
      "metadata": {
        "id": "SBxaJ5V337HP"
      }
    },
    {
      "cell_type": "code",
      "source": [
        "#Function that Takes Other Functions as Arguments\n",
        "\n",
        "def apply_function(func, value):\n",
        "    \"\"\"Apply the given function to the value.\"\"\"\n",
        "    return func(value)\n",
        "\n",
        "# Define a couple of simple functions to pass in\n",
        "def square(x):\n",
        "    return x * x\n",
        "\n",
        "def cube(x):\n",
        "    return x * x * x\n",
        "\n",
        "# Using higher-order function to apply 'square' and 'cube'\n",
        "print(apply_function(square, 4))\n",
        "print(apply_function(cube, 3))\n",
        "\n"
      ],
      "metadata": {
        "colab": {
          "base_uri": "https://localhost:8080/"
        },
        "id": "UWLewTyp3zm7",
        "outputId": "6823e55c-d431-49ad-c147-51e8db80544f"
      },
      "execution_count": null,
      "outputs": [
        {
          "output_type": "stream",
          "name": "stdout",
          "text": [
            "16\n",
            "27\n"
          ]
        }
      ]
    },
    {
      "cell_type": "markdown",
      "source": [
        "4.Create a Python function that takes a list of numbers and a function as arguments, applying the function to each element in the list.\n"
      ],
      "metadata": {
        "id": "mfpI_MWq4OR_"
      }
    },
    {
      "cell_type": "code",
      "source": [
        "def apply_to_each(numbers, func):\n",
        "    \"\"\"Apply the given function to each element in the list of numbers.\"\"\"\n",
        "    return [func(x) for x in numbers]\n",
        "\n",
        "# Defining some example functions to use\n",
        "def square(x):\n",
        "    \"\"\"Return the square of x.\"\"\"\n",
        "    return x * x\n",
        "\n",
        "def cube(x):\n",
        "    \"\"\"Return the cube of x.\"\"\"\n",
        "    return x * x * x\n",
        "\n",
        "# Example usage\n",
        "numbers = [1, 2, 3, 4, 5]\n",
        "\n",
        "squared_numbers = apply_to_each(numbers, square)\n",
        "cubed_numbers = apply_to_each(numbers, cube)\n",
        "\n",
        "print(\"Squared Numbers:\", squared_numbers)\n",
        "print(\"Cubed Numbers:\", cubed_numbers)\n"
      ],
      "metadata": {
        "colab": {
          "base_uri": "https://localhost:8080/"
        },
        "id": "BZ71U_bZ4Tua",
        "outputId": "bfb0f0e4-b855-4f20-ce03-31b42b089e64"
      },
      "execution_count": null,
      "outputs": [
        {
          "output_type": "stream",
          "name": "stdout",
          "text": [
            "Squared Numbers: [1, 4, 9, 16, 25]\n",
            "Cubed Numbers: [1, 8, 27, 64, 125]\n"
          ]
        }
      ]
    },
    {
      "cell_type": "markdown",
      "source": [
        "Built-in Functions:"
      ],
      "metadata": {
        "id": "PRr5BQuf4nIR"
      }
    },
    {
      "cell_type": "markdown",
      "source": [
        "1.Describe the role of built-in functions like `len()`, `max()`, and `min()` in Python.\n"
      ],
      "metadata": {
        "id": "dKKfsAoD4Sp-"
      }
    },
    {
      "cell_type": "markdown",
      "source": [
        "Built-in functions like len(), max(), and min() in Python provide convenient ways to perform common operations on data. These functions are integral to Python's standard library and are used frequently for handling various types of data structures such as lists, strings, and other iterables."
      ],
      "metadata": {
        "id": "dDHaw9Va4tIW"
      }
    },
    {
      "cell_type": "markdown",
      "source": [
        "len():\n",
        "\n",
        "\n",
        " The len() function returns the number of items in an object. It is commonly used to determine the size of sequences or collections such as strings, lists, tuples, and dictionaries."
      ],
      "metadata": {
        "id": "v92sFob4417w"
      }
    },
    {
      "cell_type": "markdown",
      "source": [
        "max():\n",
        "\n",
        " The max() function returns the largest item from an iterable or the largest of two or more arguments. It is used to find the maximum value in a collection or among several values."
      ],
      "metadata": {
        "id": "GMDTdB4I46eg"
      }
    },
    {
      "cell_type": "markdown",
      "source": [
        " min():\n",
        "\n",
        " The min() function returns the smallest item from an iterable or the smallest of two or more arguments. It is used to find the minimum value in a collection or among several values.\n",
        "\n"
      ],
      "metadata": {
        "id": "_DOm8LDq4_Jb"
      }
    },
    {
      "cell_type": "code",
      "source": [
        "#code\n",
        "# Length of a string\n",
        "print(len(\"Hello, World!\"))\n",
        "# Maximum value in a list\n",
        "print(max([1, 2, 3, 4, 5]))\n",
        "# Minimum value in a list\n",
        "print(min([1, 2, 3, 4, 5]))\n",
        "\n",
        "\n",
        "\n",
        "\n",
        "\n"
      ],
      "metadata": {
        "colab": {
          "base_uri": "https://localhost:8080/"
        },
        "id": "Lx7arV9X4NAH",
        "outputId": "94c64520-1c37-4394-a065-5d45fdb5aed7"
      },
      "execution_count": null,
      "outputs": [
        {
          "output_type": "stream",
          "name": "stdout",
          "text": [
            "13\n",
            "5\n",
            "1\n"
          ]
        }
      ]
    },
    {
      "cell_type": "markdown",
      "source": [
        "2.Write a Python program that uses the `map()` function to apply a function to each element of a list.\n"
      ],
      "metadata": {
        "id": "XsmkhbMs5ZuY"
      }
    },
    {
      "cell_type": "code",
      "source": [
        "# Define a function to apply to each element\n",
        "def square(x):\n",
        "    \"\"\"Return the square of x.\"\"\"\n",
        "    return x * x\n",
        "\n",
        "# List of numbers\n",
        "numbers = [1, 2, 3, 4, 5]\n",
        "\n",
        "# Using map to apply the square function to each element in the list\n",
        "squared_numbers = map(square, numbers)\n",
        "\n",
        "# Converting the map object to a list and print the result\n",
        "squared_numbers_list = list(squared_numbers)\n",
        "print(squared_numbers_list)  # Output: [1, 4, 9, 16, 25]\n"
      ],
      "metadata": {
        "colab": {
          "base_uri": "https://localhost:8080/"
        },
        "id": "LdoysdaC5Xqn",
        "outputId": "33fc289c-8611-44bf-c0e8-7882feffe573"
      },
      "execution_count": null,
      "outputs": [
        {
          "output_type": "stream",
          "name": "stdout",
          "text": [
            "[1, 4, 9, 16, 25]\n"
          ]
        }
      ]
    },
    {
      "cell_type": "markdown",
      "source": [
        "3.How does the `filter()` function work in Python, and when would you use it?"
      ],
      "metadata": {
        "id": "VUHv5Tnn5npe"
      }
    },
    {
      "cell_type": "markdown",
      "source": [
        "The filter() function in Python is used to filter elements from an iterable based on a condition defined by a function. It constructs an iterator from elements of the iterable for which the function returns True. This function is particularly useful when we want to extract elements that satisfy certain criteria."
      ],
      "metadata": {
        "id": "g_2cDEnL5wMU"
      }
    },
    {
      "cell_type": "markdown",
      "source": [
        "function: A function that returns True or False for each element of the iterable. This function is applied to each element to determine if it should be included in the result.\n",
        "\n",
        "\n",
        "iterable: The iterable (such as a list, tuple, or string) whose elements are to be filtered.\n",
        "\n",
        "\n",
        "The filter() function returns an iterator that can be converted into a list or other collection types."
      ],
      "metadata": {
        "id": "8sEAAEjK51UJ"
      }
    },
    {
      "cell_type": "code",
      "source": [
        "# Define a function that returns True for even numbers\n",
        "def is_even(x):\n",
        "    \"\"\"Return True if x is even, False otherwise.\"\"\"\n",
        "    return x % 2 == 0\n",
        "\n",
        "# List of numbers\n",
        "numbers = [1, 2, 3, 4, 5, 6]\n",
        "\n",
        "# Using filter to apply the is_even function to each element in the list\n",
        "even_numbers = filter(is_even, numbers)\n",
        "\n",
        "# Converting the filter object to a list and print the result\n",
        "even_numbers_list = list(even_numbers)\n",
        "print(even_numbers_list)  # Output: [2, 4, 6]\n"
      ],
      "metadata": {
        "colab": {
          "base_uri": "https://localhost:8080/"
        },
        "id": "CrqPp7Y35kye",
        "outputId": "79ff0910-97c8-4c6f-bff9-1972a3a326f1"
      },
      "execution_count": null,
      "outputs": [
        {
          "output_type": "stream",
          "name": "stdout",
          "text": [
            "[2, 4, 6]\n"
          ]
        }
      ]
    },
    {
      "cell_type": "markdown",
      "source": [
        "4.Create a Python program that uses the `reduce()` function to find the product of all elements in a list."
      ],
      "metadata": {
        "id": "vKZeWD_D6TEN"
      }
    },
    {
      "cell_type": "code",
      "source": [
        "from functools import reduce\n",
        "\n",
        "# Define a function to multiply two numbers\n",
        "def multiply(x, y):\n",
        "    \"\"\"Return the product of x and y.\"\"\"\n",
        "    return x * y\n",
        "\n",
        "# List of numbers\n",
        "numbers = [1, 2, 3, 4, 5]\n",
        "\n",
        "# Using reduce to apply the multiply function cumulatively to the list\n",
        "product = reduce(multiply, numbers)\n",
        "\n",
        "# Printing the result\n",
        "print(product)  # Output: 120\n"
      ],
      "metadata": {
        "colab": {
          "base_uri": "https://localhost:8080/"
        },
        "id": "Jac6ttJc6MG9",
        "outputId": "3926ab7e-2cda-4e4b-c5e8-6a01b36121fd"
      },
      "execution_count": null,
      "outputs": [
        {
          "output_type": "stream",
          "name": "stdout",
          "text": [
            "120\n"
          ]
        }
      ]
    },
    {
      "cell_type": "code",
      "source": [],
      "metadata": {
        "id": "iB5ilnS-6bUu"
      },
      "execution_count": null,
      "outputs": []
    },
    {
      "cell_type": "markdown",
      "source": [
        "Function Documentation and Best Practices:\n"
      ],
      "metadata": {
        "id": "C80dnAzZ6fpo"
      }
    },
    {
      "cell_type": "markdown",
      "source": [
        "1.Explain the purpose of docstrings in Python functions and how to write them.\n"
      ],
      "metadata": {
        "id": "GEJkAUG-6j2X"
      }
    },
    {
      "cell_type": "markdown",
      "source": [
        "Docstrings in Python functions serve as a means to document what a function does. They provide a way to describe the purpose, parameters, return values, and any other relevant information about the function, which helps with readability and maintenance of the code."
      ],
      "metadata": {
        "id": "CBxqZREb6t74"
      }
    },
    {
      "cell_type": "markdown",
      "source": [
        "\n",
        "\n",
        "Purpose of Docstrings\n",
        "\n",
        "\n",
        "\n",
        "Documentation: Docstrings allow you to provide an explanation of what a function does, its parameters, and its return values directly within the function’s code. This makes it easier for others (and yourself) to understand the function’s behavior without having to read through its implementation.\n",
        "\n",
        "\n",
        "\n",
        "Help Functions: Python’s built-in help() function can display docstrings, making it possible to get information about a function’s usage from an interactive prompt or help system.\n",
        "\n",
        "\n",
        "\n",
        "IDE Support: Many Integrated Development Environments (IDEs) and code editors use docstrings to provide tooltips and autocomplete suggestions, which helps in writing and understanding code more efficiently."
      ],
      "metadata": {
        "id": "D7mO-L8e65jW"
      }
    },
    {
      "cell_type": "code",
      "source": [
        "#code\n",
        "def factorial(n):\n",
        "    \"\"\"\n",
        "    Calculate the factorial of a non-negative integer n.\n",
        "\n",
        "    The factorial of a non-negative integer n is the product of all positive integers less than or equal to n.\n",
        "    It is denoted as n!.\n",
        "\n",
        "    Args:\n",
        "        n (int): A non-negative integer whose factorial is to be calculated.\n",
        "\n",
        "    Returns:\n",
        "        int: The factorial of the input integer n.\n",
        "\n",
        "    Raises:\n",
        "        ValueError: If the input is a negative integer.\n",
        "    \"\"\"\n",
        "    if n < 0:\n",
        "        raise ValueError(\"Input must be a non-negative integer\")\n",
        "\n",
        "    result = 1\n",
        "    for i in range(1, n + 1):\n",
        "        result *= i\n",
        "\n",
        "    return result\n"
      ],
      "metadata": {
        "id": "M-84kCLW6i0z"
      },
      "execution_count": null,
      "outputs": []
    },
    {
      "cell_type": "code",
      "source": [
        "factorial.__doc__"
      ],
      "metadata": {
        "colab": {
          "base_uri": "https://localhost:8080/",
          "height": 127
        },
        "id": "3id1OTZ67NEC",
        "outputId": "55466ace-7a61-42e0-d339-a969e73c3686"
      },
      "execution_count": null,
      "outputs": [
        {
          "output_type": "execute_result",
          "data": {
            "text/plain": [
              "'\\n    Calculate the factorial of a non-negative integer n.\\n\\n    The factorial of a non-negative integer n is the product of all positive integers less than or equal to n.\\n    It is denoted as n!.\\n\\n    Args:\\n        n (int): A non-negative integer whose factorial is to be calculated.\\n\\n    Returns:\\n        int: The factorial of the input integer n.\\n\\n    Raises:\\n        ValueError: If the input is a negative integer.\\n    '"
            ],
            "application/vnd.google.colaboratory.intrinsic+json": {
              "type": "string"
            }
          },
          "metadata": {},
          "execution_count": 35
        }
      ]
    },
    {
      "cell_type": "code",
      "source": [],
      "metadata": {
        "id": "g_lSTH-F7de0"
      },
      "execution_count": null,
      "outputs": []
    },
    {
      "cell_type": "markdown",
      "source": [
        "2.Describe some best practices for naming functions and variables in Python, including naming conventions and guidelines.\n"
      ],
      "metadata": {
        "id": "W7tzEt9C7vSm"
      }
    },
    {
      "cell_type": "markdown",
      "source": [
        "FOR NAMING VARIABLES:\n",
        "\n",
        "-> VARIABLE NAME SHOULD CONTAIN ONLY ALPHANUMERIC AND UNDERSCORE\n",
        "\n",
        "-> VARIABLE NAME SHOULD ONLY START WITH ALPHABET OR UNDERSCORE\n",
        "\n",
        "->NAME SHOULD NOT MATCH WITH PREDEFINED KEYWORDS\n",
        "\n",
        "-> WE HAVE DEFINE A VARIABLE SO THAT IT HAVE TO DESCRIBE ABOUT THE VALUE IT IS GOING STORING\n",
        "\n",
        "\n",
        "FOR FUNCTION NAMING:\n",
        "\n",
        "-> FOR FUNCTION NAMING WE HAVE TO ALSO FOLLOW SAME GUIDELINES\n",
        "\n",
        "-> WE HAVE TO USE THAT NAME SO THAT IT PERFECTLY DEFINE THE FUNCTIONALITY OF FUNCTUION.\n",
        "|"
      ],
      "metadata": {
        "id": "kfRd0sAl8SiW"
      }
    },
    {
      "cell_type": "code",
      "source": [
        "#EXAMPLE SEE THE NAMING  CONVENTION\n",
        "\n",
        "\n",
        "#HERE FUNCTION NAME CORRECTLY DEFINING ITS FUNCTIONALITY\n",
        "def calculate_area_of_rectangle(width, height):\n",
        "    \"\"\"Calculate and return the area of a rectangle.\"\"\"\n",
        "    return width * height\n",
        "\n",
        "#VARIABLE NAME CORRECTLY INDICATING THAT WHAT DATA IT IS DOING TO BE STORE\n",
        "user_profile = {\n",
        "    'username': 'johndoe',\n",
        "    'email': 'johndoe@example.com'\n",
        "}\n",
        "\n",
        "\n",
        "\n"
      ],
      "metadata": {
        "id": "LeHt9-Um72K3"
      },
      "execution_count": null,
      "outputs": []
    },
    {
      "cell_type": "code",
      "source": [],
      "metadata": {
        "id": "5G8QkKsg90cd"
      },
      "execution_count": null,
      "outputs": []
    }
  ]
}