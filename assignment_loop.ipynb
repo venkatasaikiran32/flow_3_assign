{
  "nbformat": 4,
  "nbformat_minor": 0,
  "metadata": {
    "colab": {
      "provenance": []
    },
    "kernelspec": {
      "name": "python3",
      "display_name": "Python 3"
    },
    "language_info": {
      "name": "python"
    }
  },
  "cells": [
    {
      "cell_type": "code",
      "execution_count": null,
      "metadata": {
        "id": "Z8sIRYWpvQ_9"
      },
      "outputs": [],
      "source": []
    },
    {
      "cell_type": "markdown",
      "source": [
        "FOR LOOP:"
      ],
      "metadata": {
        "id": "NPySTsoJvhBP"
      }
    },
    {
      "cell_type": "markdown",
      "source": [
        "1.Write a Python program to print numbers from 1 to 10 using a for loop.\n"
      ],
      "metadata": {
        "id": "eiXLN5WyvrDp"
      }
    },
    {
      "cell_type": "code",
      "source": [
        "# Python program to print numbers from 1 to 10 using a for loop.\n",
        "for i in range(1,11):\n",
        "  print(i)"
      ],
      "metadata": {
        "colab": {
          "base_uri": "https://localhost:8080/"
        },
        "id": "kIkosyfNviZB",
        "outputId": "7a27ebb3-bda9-47bc-a534-180873fd56f9"
      },
      "execution_count": null,
      "outputs": [
        {
          "output_type": "stream",
          "name": "stdout",
          "text": [
            "1\n",
            "2\n",
            "3\n",
            "4\n",
            "5\n",
            "6\n",
            "7\n",
            "8\n",
            "9\n",
            "10\n"
          ]
        }
      ]
    },
    {
      "cell_type": "markdown",
      "source": [
        "2.Explain the difference between a for loop and a while loop in Python.\n"
      ],
      "metadata": {
        "id": "3dm9swHDv1wY"
      }
    },
    {
      "cell_type": "markdown",
      "source": [
        " the difference between a for loop and a while loop in Python.\n",
        "\n",
        "for loop:\n",
        "A for loop is used to iterate over a sequence (such as a list, tuple, dictionary, set, or string) or other iterable objects. It’s typically used when you know in advance how many times you want to iterate.\n",
        "\n",
        "The for loop goes through each item in the sequence one by one, assigning the item to a loop variable and executing the block of code under the loop.\n",
        "\n",
        "\n",
        "\n",
        "while loop:\n",
        "\n",
        "A while loop is used to repeat a block of code as long as a condition is true. It’s useful when the number of iterations is not known beforehand and depends on some condition being met during execution.\n",
        "\n",
        "The while loop checks the condition at the start of each iteration. If the condition is True, the code block is executed; if the condition becomes False, the loop stops.\n",
        "\n",
        "\n",
        "\n",
        "\n",
        "\n"
      ],
      "metadata": {
        "id": "IbDqs9SywAXW"
      }
    },
    {
      "cell_type": "code",
      "source": [
        "#code for loop\n",
        "print('for loop')\n",
        "li=['sai','kiran','mandapati']\n",
        "for i in li:\n",
        "  print(i)\n",
        "print()\n",
        "print('while loop')\n",
        "#we mainly use while llop when we dont know no of iterations and we have to do until condition satisfies\n",
        "i=0\n",
        "while(i<5):\n",
        "  print(i)\n",
        "  i+=1"
      ],
      "metadata": {
        "colab": {
          "base_uri": "https://localhost:8080/"
        },
        "id": "ce0cTwiNvzkg",
        "outputId": "fa899511-1371-43b5-9fbb-7e66f509c282"
      },
      "execution_count": null,
      "outputs": [
        {
          "output_type": "stream",
          "name": "stdout",
          "text": [
            "for loop\n",
            "sai\n",
            "kiran\n",
            "mandapati\n",
            "\n",
            "while loop\n",
            "0\n",
            "1\n",
            "2\n",
            "3\n",
            "4\n"
          ]
        }
      ]
    },
    {
      "cell_type": "markdown",
      "source": [
        "3.Write a Python program to calculate the sum of all numbers from 1 to 100 using a for loop.\n"
      ],
      "metadata": {
        "id": "8nunjSA0xgS5"
      }
    },
    {
      "cell_type": "code",
      "source": [
        "#Python program to calculate the sum of all numbers from 1 to 100 using a for loop.\n",
        "sum=0\n",
        "for i in range(1,101):\n",
        "  sum+=i\n",
        "print(sum)"
      ],
      "metadata": {
        "colab": {
          "base_uri": "https://localhost:8080/"
        },
        "id": "Tr8VwsW6xZfZ",
        "outputId": "315cfdd1-275c-4a53-8a1b-9065e5adc0c2"
      },
      "execution_count": null,
      "outputs": [
        {
          "output_type": "stream",
          "name": "stdout",
          "text": [
            "5050\n"
          ]
        }
      ]
    },
    {
      "cell_type": "markdown",
      "source": [
        "4.How do you iterate through a list using a for loop in Python?\n"
      ],
      "metadata": {
        "id": "ym_K2uE9x1YC"
      }
    },
    {
      "cell_type": "code",
      "source": [
        "#iterating through a list using a for loop in Python\n",
        "\n",
        "# to iterate through a loop firstly the data structure should be iterable.\n",
        "#list is an iterable we can iterate through it\n",
        "#firstly the i pointer will be placed in first index of list and the updates\n",
        "#when it reaches out of index then implictly the for loop handles the error\n",
        "#the control will go outside the for loop\n",
        "li=['sai','kiran','mandapati']\n",
        "for i in li:\n",
        "  print(i)"
      ],
      "metadata": {
        "colab": {
          "base_uri": "https://localhost:8080/"
        },
        "id": "Zg09fcpvxyek",
        "outputId": "f549c1bd-fbfe-40c5-9f8e-f0f0edd0366f"
      },
      "execution_count": null,
      "outputs": [
        {
          "output_type": "stream",
          "name": "stdout",
          "text": [
            "sai\n",
            "kiran\n",
            "mandapati\n"
          ]
        }
      ]
    },
    {
      "cell_type": "markdown",
      "source": [
        "5.Write a Python program to find the product of all elements in a list using a for loop.\n"
      ],
      "metadata": {
        "id": "eokImLc9y1d3"
      }
    },
    {
      "cell_type": "code",
      "source": [
        "#Python program to find the product of all elements in a list using a for loop.\n",
        "li=[1,2,3,4,5]\n",
        "product=1\n",
        "for i in li:\n",
        "  product*=i\n",
        "print(product)"
      ],
      "metadata": {
        "colab": {
          "base_uri": "https://localhost:8080/"
        },
        "id": "hk9nyi5Ax9Gy",
        "outputId": "d1b1b2f8-f5e8-44ef-a920-4cdb78feefda"
      },
      "execution_count": null,
      "outputs": [
        {
          "output_type": "stream",
          "name": "stdout",
          "text": [
            "120\n"
          ]
        }
      ]
    },
    {
      "cell_type": "markdown",
      "source": [
        "6.Create a Python program that prints all even numbers from 1 to 20 using a for loop.\n"
      ],
      "metadata": {
        "id": "fcYvsXsbzKgV"
      }
    },
    {
      "cell_type": "code",
      "source": [
        "# Python program that prints all even numbers from 1 to 20 using a for loop.\n",
        "for i in range(1,21):\n",
        "  if(i%2==0):\n",
        "    print(i)\n",
        "\n",
        "\n"
      ],
      "metadata": {
        "colab": {
          "base_uri": "https://localhost:8080/"
        },
        "id": "xtSry7k1zAd_",
        "outputId": "872350c3-2e79-4938-d614-02a60d91cbb8"
      },
      "execution_count": null,
      "outputs": [
        {
          "output_type": "stream",
          "name": "stdout",
          "text": [
            "2\n",
            "4\n",
            "6\n",
            "8\n",
            "10\n",
            "12\n",
            "14\n",
            "16\n",
            "18\n",
            "20\n"
          ]
        }
      ]
    },
    {
      "cell_type": "markdown",
      "source": [
        "7.Write a Python program that calculates the factorial of a number using a for loop.\n"
      ],
      "metadata": {
        "id": "-Qt4KdMQzTI-"
      }
    },
    {
      "cell_type": "code",
      "source": [
        "#Python program that calculates the factorial of a number using a for loop.\n",
        "n=int(input('enter a number'))\n",
        "fact=1\n",
        "for i in range(1,n+1):\n",
        "  fact*=i\n",
        "print(fact)"
      ],
      "metadata": {
        "colab": {
          "base_uri": "https://localhost:8080/"
        },
        "id": "QpAyaFCYzRus",
        "outputId": "de196797-977b-49b3-d6e7-a17864809fd1"
      },
      "execution_count": null,
      "outputs": [
        {
          "output_type": "stream",
          "name": "stdout",
          "text": [
            "enter a number4\n",
            "24\n"
          ]
        }
      ]
    },
    {
      "cell_type": "markdown",
      "source": [
        "8.How can you iterate through the characters of a string using a for loop in Python?\n"
      ],
      "metadata": {
        "id": "uvzv3hOkzlCK"
      }
    },
    {
      "cell_type": "code",
      "source": [
        "#iterating through the characters of a string using a for loop in Python?\n",
        "#string is iterable so we can use for loop to iterate over it\n",
        "#when we iterated the string in for loop it will firstly converts into iterator\n",
        "#then for loop indirectly calls next() and also handles the error index out of bound\n",
        "#when it reaches out of index then implictly the for loop handles the error\n",
        "#the control will go outside the for loop\n",
        "s='sai kiran mandapati'\n",
        "for i in s:\n",
        "  print(i)"
      ],
      "metadata": {
        "colab": {
          "base_uri": "https://localhost:8080/"
        },
        "id": "kyxaHl6qzggG",
        "outputId": "0569eee5-68b9-4067-cc8d-95c0848eb9a0"
      },
      "execution_count": null,
      "outputs": [
        {
          "output_type": "stream",
          "name": "stdout",
          "text": [
            "s\n",
            "a\n",
            "i\n",
            " \n",
            "k\n",
            "i\n",
            "r\n",
            "a\n",
            "n\n",
            " \n",
            "m\n",
            "a\n",
            "n\n",
            "d\n",
            "a\n",
            "p\n",
            "a\n",
            "t\n",
            "i\n"
          ]
        }
      ]
    },
    {
      "cell_type": "markdown",
      "source": [
        "9.Write a Python program to find the largest number in a list using a for loop.\n"
      ],
      "metadata": {
        "id": "qzqWuh7B0PCv"
      }
    },
    {
      "cell_type": "code",
      "source": [
        "# Python program to find the largest number in a list using a for loop\n",
        "li=[1,2,3,4,5]\n",
        "max=li[0]\n",
        "for i in li:\n",
        "  if(i>max):\n",
        "    max=i\n",
        "print(max)\n",
        "\n"
      ],
      "metadata": {
        "colab": {
          "base_uri": "https://localhost:8080/"
        },
        "id": "MjZetuGb0NLD",
        "outputId": "ae38db81-9967-4842-89fe-6558e9412bb5"
      },
      "execution_count": null,
      "outputs": [
        {
          "output_type": "stream",
          "name": "stdout",
          "text": [
            "5\n"
          ]
        }
      ]
    },
    {
      "cell_type": "markdown",
      "source": [
        "10.Create a Python program that prints the Fibonacci sequence up to a specified limit using a for loop."
      ],
      "metadata": {
        "id": "Y9BFVGG10cHg"
      }
    },
    {
      "cell_type": "code",
      "source": [
        "# Python program that prints the Fibonacci sequence up to a specified limit using a for loop.\n",
        "n=int(input('enter a number'))\n",
        "a=0\n",
        "b=1\n",
        "print(a)\n",
        "print(b)\n",
        "for i in range(2,n):\n",
        "  c=a+b\n",
        "  print(c)\n",
        "  a=b\n",
        "  b=c"
      ],
      "metadata": {
        "colab": {
          "base_uri": "https://localhost:8080/"
        },
        "id": "akZMzUvd0ZKp",
        "outputId": "012c9ce5-11e4-4146-8901-1215ec592244"
      },
      "execution_count": null,
      "outputs": [
        {
          "output_type": "stream",
          "name": "stdout",
          "text": [
            "enter a number4\n",
            "0\n",
            "1\n",
            "1\n",
            "2\n"
          ]
        }
      ]
    },
    {
      "cell_type": "markdown",
      "source": [
        "11.Write a Python program to count the number of vowels in a given string using a for loop.\n"
      ],
      "metadata": {
        "id": "t05WcVZ-08-w"
      }
    },
    {
      "cell_type": "code",
      "source": [
        "#Python program to count the number of vowels in a given string using a for loop.\n",
        "s='sai kiran mandapati'\n",
        "count=0\n",
        "for i in s:\n",
        "  if(i=='a' or i=='e' or i=='i' or i=='o' or i=='u' or i=='A' or i=='E' or  i=='I' or i=='O'  or i=='U' ):\n",
        "    count+=1\n",
        "print(count)"
      ],
      "metadata": {
        "colab": {
          "base_uri": "https://localhost:8080/"
        },
        "id": "hx2I6Gps05a5",
        "outputId": "3d6c5342-eb8c-47b1-914c-5b353a38f93d"
      },
      "execution_count": null,
      "outputs": [
        {
          "output_type": "stream",
          "name": "stdout",
          "text": [
            "8\n"
          ]
        }
      ]
    },
    {
      "cell_type": "markdown",
      "source": [
        "12.Create a Python program that generates a multiplication table for a given number using a for loop.\n"
      ],
      "metadata": {
        "id": "5Dsho2dp2B49"
      }
    },
    {
      "cell_type": "code",
      "source": [
        "#Python program that generates a multiplication table for a given number using a for loop.\n",
        "n=int(input('enter a number'))\n",
        "for i in range(1,11):\n",
        "  print(n,'*',i,'=',n*i)"
      ],
      "metadata": {
        "colab": {
          "base_uri": "https://localhost:8080/"
        },
        "id": "4pSd9qg31Tfc",
        "outputId": "62f65f00-6534-4ada-a57c-1359f987712c"
      },
      "execution_count": null,
      "outputs": [
        {
          "output_type": "stream",
          "name": "stdout",
          "text": [
            "enter a number3\n",
            "3 * 1 = 3\n",
            "3 * 2 = 6\n",
            "3 * 3 = 9\n",
            "3 * 4 = 12\n",
            "3 * 5 = 15\n",
            "3 * 6 = 18\n",
            "3 * 7 = 21\n",
            "3 * 8 = 24\n",
            "3 * 9 = 27\n",
            "3 * 10 = 30\n"
          ]
        }
      ]
    },
    {
      "cell_type": "markdown",
      "source": [
        "13.Write a Python program to reverse a list using a for loop.\n"
      ],
      "metadata": {
        "id": "MTilSHTv2K_-"
      }
    },
    {
      "cell_type": "code",
      "source": [
        "# Python program to reverse a list using a for loop\n",
        "li=[1,2,3,4,5]\n",
        "l_reverse=[]\n",
        "for i in range(len(li)-1,-1,-1):\n",
        "  l_reverse.append(li[i])\n",
        "print(\"reversed list:\",l_reverse)\n",
        "\n"
      ],
      "metadata": {
        "colab": {
          "base_uri": "https://localhost:8080/"
        },
        "id": "VtuWf9iy2IpV",
        "outputId": "9e42ae7c-6b6f-483d-cb0f-4834e0025642"
      },
      "execution_count": null,
      "outputs": [
        {
          "output_type": "stream",
          "name": "stdout",
          "text": [
            "reversed list: [5, 4, 3, 2, 1]\n"
          ]
        }
      ]
    },
    {
      "cell_type": "markdown",
      "source": [
        "14.Write a Python program to find the common elements between two lists using a for loop.\n"
      ],
      "metadata": {
        "id": "_R6sMZQX2pKo"
      }
    },
    {
      "cell_type": "code",
      "source": [
        "#Python program to find the common elements between two lists using a for loop.\n",
        "\n",
        "li1=[1,2,3,4,5]\n",
        "li2=[3,4,5,6,7]\n",
        "for i in li1:\n",
        "  for j in li2:\n",
        "    if(i==j):\n",
        "      print(i)\n"
      ],
      "metadata": {
        "colab": {
          "base_uri": "https://localhost:8080/"
        },
        "id": "IBPHnWGz2m2q",
        "outputId": "c972efaf-5ad4-432b-f627-1f4f6e15d64e"
      },
      "execution_count": null,
      "outputs": [
        {
          "output_type": "stream",
          "name": "stdout",
          "text": [
            "3\n",
            "4\n",
            "5\n"
          ]
        }
      ]
    },
    {
      "cell_type": "markdown",
      "source": [
        "15.Explain how to use a for loop to iterate through the keys and values of a dictionary in Python.\n"
      ],
      "metadata": {
        "id": "BmsNkC9W22m-"
      }
    },
    {
      "cell_type": "markdown",
      "source": [
        "in Python, we can use a for loop to iterate through the keys and values of a dictionary. A dictionary is a collection of key-value pairs, where each key is associated with a value. When you want to loop through both the keys and their corresponding values, you can do so using the items() method of the dictionary.\n",
        "\n",
        "\n",
        "Iterating through Keys and Values Using items() Method:\n",
        "\n",
        "The items() method returns a view object that displays a list of a dictionary’s key-value tuple pairs, which can be directly unpacked in a for loop.\n",
        "\n",
        "\n",
        "\n",
        "Iterating Through Keys or Values Separately:\n",
        "If we  only need to iterate through the keys or values separately, you can use the keys() or values() methods:\n",
        "\n"
      ],
      "metadata": {
        "id": "2aCDbf6c28H0"
      }
    },
    {
      "cell_type": "code",
      "source": [
        "#program Iterating through Keys and Values Using items() Method\n",
        "\n",
        "d={'sai':1,'kiran':2,'mandapati':3}\n",
        "for key,value in d.items():\n",
        "  print(key,value)\n",
        "\n",
        "\n",
        "print()\n",
        "\n",
        "\n",
        "#iterating through Keys and Values separtely\n",
        "\n",
        "#iterating through list of keys\n",
        "for key in d.keys():\n",
        "  print(key)\n",
        "print()\n",
        "\n",
        "#iterating through values list\n",
        "\n",
        "for value in d.values():\n",
        "  print(value)\n"
      ],
      "metadata": {
        "colab": {
          "base_uri": "https://localhost:8080/"
        },
        "id": "TH70QdIr20hb",
        "outputId": "ba1f9c12-6e9e-4749-c773-9c847bf54a55"
      },
      "execution_count": null,
      "outputs": [
        {
          "output_type": "stream",
          "name": "stdout",
          "text": [
            "sai 1\n",
            "kiran 2\n",
            "mandapati 3\n",
            "\n",
            "sai\n",
            "kiran\n",
            "mandapati\n",
            "\n",
            "1\n",
            "2\n",
            "3\n"
          ]
        }
      ]
    },
    {
      "cell_type": "markdown",
      "source": [
        "16.Write a Python program to find the GCD (Greatest Common Divisor) of two numbers using a for loop.\n"
      ],
      "metadata": {
        "id": "awV-6z783_RM"
      }
    },
    {
      "cell_type": "code",
      "source": [
        "#Python program to find the GCD (Greatest Common Divisor) of two numbers using a for loop.\n",
        "a=int(input('enter a number'))\n",
        "b=int(input('enter a number'))\n",
        "gcd=1\n",
        "for i in range(1,min(a,b)+1):\n",
        "  if(a%i==0 and b%i==0):\n",
        "    gcd=i\n",
        "print(gcd)"
      ],
      "metadata": {
        "colab": {
          "base_uri": "https://localhost:8080/"
        },
        "id": "02RfbGtT37x3",
        "outputId": "c33c7101-ee0d-45d4-8d1b-65c409843888"
      },
      "execution_count": null,
      "outputs": [
        {
          "output_type": "stream",
          "name": "stdout",
          "text": [
            "enter a number3\n",
            "enter a number4\n",
            "1\n"
          ]
        }
      ]
    },
    {
      "cell_type": "markdown",
      "source": [
        "17.Create a Python program that checks if a string is a palindrome using a for loop."
      ],
      "metadata": {
        "id": "ycCb6J7P4Va4"
      }
    },
    {
      "cell_type": "code",
      "source": [
        "#python program that checks if a string is a palindrome using a for loop.\n",
        "string=input('enter a string:')\n",
        "flag=0\n",
        "for i in range(0,len(string)//2):\n",
        "  if(string[i]!=string[len(string)-i-1]):\n",
        "    flag=1\n",
        "    break\n",
        "if(flag==0):\n",
        "  print('palindrome')\n",
        "else:\n",
        "  print('not palindrome')\n",
        "\n"
      ],
      "metadata": {
        "colab": {
          "base_uri": "https://localhost:8080/"
        },
        "id": "qeF6OvDk4RhD",
        "outputId": "44202e43-57b6-4ddd-92d5-3c4b5e1785c4"
      },
      "execution_count": null,
      "outputs": [
        {
          "output_type": "stream",
          "name": "stdout",
          "text": [
            "enter a string:mam\n",
            "palindrome\n"
          ]
        }
      ]
    },
    {
      "cell_type": "markdown",
      "source": [
        "18.Write a Python program to remove duplicates from a list using a for loop.\n"
      ],
      "metadata": {
        "id": "091rYfgi5fot"
      }
    },
    {
      "cell_type": "code",
      "source": [
        "#Python program to remove duplicates from a list using a for loop.\n",
        "#  A list with possible duplicate values\n",
        "original_list = [1, 2, 3, 2, 4, 5, 1, 6, 7, 4]\n",
        "\n",
        "# Initializing an empty list to store unique elements\n",
        "unique_list = []\n",
        "\n",
        "# Iterating through the original list\n",
        "for item in original_list:\n",
        "    # Checking if the item is not already in the unique_list\n",
        "    if item not in unique_list:\n",
        "        unique_list.append(item)\n",
        "\n",
        "# printing the list with duplicates removed\n",
        "print(\"Original list:\", original_list)\n",
        "print(\"List with duplicates removed:\", unique_list)\n"
      ],
      "metadata": {
        "colab": {
          "base_uri": "https://localhost:8080/"
        },
        "id": "NufhT1CE4qrn",
        "outputId": "19689005-91c8-4b3a-b945-e40f427114f1"
      },
      "execution_count": null,
      "outputs": [
        {
          "output_type": "stream",
          "name": "stdout",
          "text": [
            "Original list: [1, 2, 3, 2, 4, 5, 1, 6, 7, 4]\n",
            "List with duplicates removed: [1, 2, 3, 4, 5, 6, 7]\n"
          ]
        }
      ]
    },
    {
      "cell_type": "markdown",
      "source": [
        "19.Create a Python program that counts the number of words in a sentence using a for loop."
      ],
      "metadata": {
        "id": "IPYzPSLS62s_"
      }
    },
    {
      "cell_type": "code",
      "source": [
        "#Python program that counts the number of words in a sentence using a for loop.\n",
        "s='sai kiran mandapati'\n",
        "count=0\n",
        "for i in s:\n",
        "  if(i==' '):\n",
        "    count+=1\n",
        "print(count+1)"
      ],
      "metadata": {
        "colab": {
          "base_uri": "https://localhost:8080/"
        },
        "id": "5Exl_DgI6LKv",
        "outputId": "e666fdad-8150-4d85-b95e-be9beb9d16fa"
      },
      "execution_count": null,
      "outputs": [
        {
          "output_type": "stream",
          "name": "stdout",
          "text": [
            "3\n"
          ]
        }
      ]
    },
    {
      "cell_type": "markdown",
      "source": [
        "20.Write a Python program to find the sum of all odd numbers from 1 to 50 using a for loop"
      ],
      "metadata": {
        "id": "2cq-Psaq6_vt"
      }
    },
    {
      "cell_type": "code",
      "source": [
        "#Python program to find the sum of all odd numbers from 1 to 50 using a for loop\n",
        "sum=0\n",
        "for i in range(1,51):\n",
        "  if(i%2!=0):\n",
        "    sum+=i\n",
        "print(sum)"
      ],
      "metadata": {
        "colab": {
          "base_uri": "https://localhost:8080/"
        },
        "id": "x9bVDOxG6-tJ",
        "outputId": "433af05d-5e60-4ece-99db-8fccae51521e"
      },
      "execution_count": null,
      "outputs": [
        {
          "output_type": "stream",
          "name": "stdout",
          "text": [
            "625\n"
          ]
        }
      ]
    },
    {
      "cell_type": "markdown",
      "source": [
        "21.Write a Python program that checks if a given year is a leap year using a for loop.\n"
      ],
      "metadata": {
        "id": "6pZVpDCj7G0v"
      }
    },
    {
      "cell_type": "code",
      "source": [
        "#Python program that checks if a given year is a leap year using a for loop.\n",
        "# taking input  year to check\n",
        "year = int(input(\"Enter a year to check: \"))\n",
        "\n",
        "# Using a for loop to iterate (even though it's just one year)\n",
        "for y in [year]:\n",
        "    # Check if the year is a leap year\n",
        "    if (y % 4 == 0 and y % 100 != 0) or (y % 400 == 0):\n",
        "        print(f\"{y} is a leap year.\")\n",
        "    else:\n",
        "        print(f\"{y} is not a leap year.\")\n",
        "\n"
      ],
      "metadata": {
        "colab": {
          "base_uri": "https://localhost:8080/"
        },
        "id": "X8UfgPII7Fzy",
        "outputId": "717bf8b6-c878-47a4-c4d5-a0641cac8541"
      },
      "execution_count": null,
      "outputs": [
        {
          "output_type": "stream",
          "name": "stdout",
          "text": [
            "Enter a year to check: 2024\n",
            "2024 is a leap year.\n"
          ]
        }
      ]
    },
    {
      "cell_type": "markdown",
      "source": [
        "22.Create a Python program that calculates the square root of a number using a for loop."
      ],
      "metadata": {
        "id": "n8ek4lWm_MUv"
      }
    },
    {
      "cell_type": "code",
      "source": [
        "#Python program that calculates the square root of a number using a for loop\n",
        "n=int(input('enter a number'))\n",
        "count=0\n",
        "for i in range(1,n+1):\n",
        "  if(i*i==n):\n",
        "    print(i)\n",
        "    count+=1\n",
        "    break\n",
        "if(count==0):\n",
        "  print('not a perfect square')\n",
        "\n"
      ],
      "metadata": {
        "colab": {
          "base_uri": "https://localhost:8080/"
        },
        "id": "ixk9hu2A_Q4w",
        "outputId": "00447fc8-7a53-494a-96ed-6e8ed615c169"
      },
      "execution_count": null,
      "outputs": [
        {
          "output_type": "stream",
          "name": "stdout",
          "text": [
            "enter a number9\n",
            "3\n"
          ]
        }
      ]
    },
    {
      "cell_type": "markdown",
      "source": [
        "23.Write a Python program to find the LCM (Least Common Multiple) of two numbers using a for loop.\n"
      ],
      "metadata": {
        "id": "pkD-FgTI_xl4"
      }
    },
    {
      "cell_type": "code",
      "source": [
        "#Python program to find the LCM (Least Common Multiple) of two numbers using a for loop.\n",
        "def find_lcm(x, y):\n",
        "    # Determining the greater number\n",
        "    if x > y:\n",
        "        greater = x\n",
        "    else:\n",
        "        greater = y\n",
        "\n",
        "    # Looping to find the LCM\n",
        "    while True:\n",
        "        if greater % x == 0 and greater % y == 0:\n",
        "            lcm = greater\n",
        "            break\n",
        "        greater += 1\n",
        "\n",
        "    return lcm\n",
        "\n",
        "#  Getting two numbers from the user\n",
        "num1 = int(input(\"Enter the first number: \"))\n",
        "num2 = int(input(\"Enter the second number: \"))\n",
        "\n",
        "# Finding the LCM of the two numbers\n",
        "lcm = find_lcm(num1, num2)\n",
        "\n",
        "# Output the LCM\n",
        "print(f\"The LCM of {num1} and {num2} is: {lcm}\")\n"
      ],
      "metadata": {
        "colab": {
          "base_uri": "https://localhost:8080/"
        },
        "id": "i148ySm4_vHH",
        "outputId": "3fa21f23-d405-452a-aa17-be6eb4aeb5e5"
      },
      "execution_count": null,
      "outputs": [
        {
          "output_type": "stream",
          "name": "stdout",
          "text": [
            "Enter the first number: 3\n",
            "Enter the second number: 4\n",
            "The LCM of 3 and 4 is: 12\n"
          ]
        }
      ]
    },
    {
      "cell_type": "markdown",
      "source": [
        "IF ELSE:\n",
        "4"
      ],
      "metadata": {
        "id": "VINib0vmAWJU"
      }
    },
    {
      "cell_type": "markdown",
      "source": [
        "1.Write a Python program to check if a number is positive, negative, or zero using an if-else statement.\n"
      ],
      "metadata": {
        "id": "Or3Doq-m_wkb"
      }
    },
    {
      "cell_type": "code",
      "source": [
        "#Python program to check if a number is positive, negative, or zero using an if-else statement.\n",
        "n=int(input('enter a number'))\n",
        "if(n>0):\n",
        "  print('positive')\n",
        "elif(n<0):\n",
        "  print('negative')\n",
        "else:\n",
        "  print('zero')\n"
      ],
      "metadata": {
        "colab": {
          "base_uri": "https://localhost:8080/"
        },
        "id": "akHrFn0JAbsv",
        "outputId": "1299ec40-bc78-40ad-c5b5-379e0e2f2742"
      },
      "execution_count": null,
      "outputs": [
        {
          "output_type": "stream",
          "name": "stdout",
          "text": [
            "enter a number4\n",
            "positive\n"
          ]
        }
      ]
    },
    {
      "cell_type": "markdown",
      "source": [
        "2.Create a Python program that checks if a given number is even or odd using an if-else statement.\n"
      ],
      "metadata": {
        "id": "qrm-kG0kAi67"
      }
    },
    {
      "cell_type": "code",
      "source": [
        "# a Python program that checks if a given number is even or odd using an if-else statement.\n",
        "n=int(input('enter a number'))\n",
        "if(n%2==0):\n",
        "  print('even')\n",
        "else:\n",
        "  print('odd')"
      ],
      "metadata": {
        "colab": {
          "base_uri": "https://localhost:8080/"
        },
        "id": "KHt3mCHQAgj9",
        "outputId": "81005a29-ac33-4874-8db7-8f8c937fbcf2"
      },
      "execution_count": null,
      "outputs": [
        {
          "output_type": "stream",
          "name": "stdout",
          "text": [
            "enter a number4\n",
            "even\n"
          ]
        }
      ]
    },
    {
      "cell_type": "markdown",
      "source": [
        "3.How can you use nested if-else statements in Python, and provide an example?"
      ],
      "metadata": {
        "id": "zmjpVRNuArt6"
      }
    },
    {
      "cell_type": "markdown",
      "source": [
        "Nested if-else statements in Python allow us to perform multiple levels of decision-making. Essentially, you can place one if-else statement inside another to create a hierarchy of conditions. This is useful when you need to evaluate more complex logic, where one condition depends on another.\n",
        "\n",
        "\n",
        "we can use if and else inside a if statement as well as inside a else statement.\n",
        "\n",
        "but important thing we have to remember is we cant use else without using if but we can use if without need of using else.\n",
        "\n",
        "\n",
        "the control is same if the if the condition is true then it wont exceute else block and if condition is false then else bolck will get executes"
      ],
      "metadata": {
        "id": "1W764ZStAp4p"
      }
    },
    {
      "cell_type": "code",
      "source": [
        "#code\n",
        "\n",
        "# Input marks\n",
        "marks = int(input(\"Enter your marks: \"))\n",
        "\n",
        "# Determining the grade\n",
        "if marks >= 90:\n",
        "    grade = 'A'\n",
        "    if marks >= 95:\n",
        "        print(\"Excellent performance!\")\n",
        "    else:\n",
        "        print(\"Very good!\")\n",
        "elif marks >= 80:\n",
        "    grade = 'B'\n",
        "    if marks >= 85:\n",
        "        print(\"Good job!\")\n",
        "    else:\n",
        "        print(\"Keep trying!\")\n",
        "elif marks >= 70:\n",
        "    grade = 'C'\n",
        "    if marks >= 75:\n",
        "        print(\"Fair performance!\")\n",
        "    else:\n",
        "        print(\"You need to work harder!\")\n",
        "else:\n",
        "    grade = 'F'\n",
        "    if marks >= 60:\n",
        "        print(\"Almost there!\")\n",
        "    else:\n",
        "        print(\"You failed. Better luck next time.\")\n",
        "\n",
        "# printing  the grade\n",
        "print(f\"Your grade is: {grade}\")\n"
      ],
      "metadata": {
        "colab": {
          "base_uri": "https://localhost:8080/"
        },
        "id": "_HKL-mDfBne0",
        "outputId": "dbca1f28-a865-40b2-9376-d626d737cf98"
      },
      "execution_count": null,
      "outputs": [
        {
          "output_type": "stream",
          "name": "stdout",
          "text": [
            "Enter your marks: 88\n",
            "Good job!\n",
            "Your grade is: B\n"
          ]
        }
      ]
    },
    {
      "cell_type": "markdown",
      "source": [
        "4.Write a Python program to determine the largest of three numbers using if-else.\n"
      ],
      "metadata": {
        "id": "E8j05Bj6Ah8r"
      }
    },
    {
      "cell_type": "code",
      "source": [
        "# Python program to determine the largest of three numbers using if-else.\n",
        "a=int(input('enter a number'))\n",
        "b=int(input('enter a number'))\n",
        "c=int(input('enter a number'))\n",
        "if(a>b and a>c):\n",
        "  print(a)\n",
        "elif(b>a and b>c):\n",
        "  print(b)\n",
        "else:\n",
        "  print(c)\n"
      ],
      "metadata": {
        "colab": {
          "base_uri": "https://localhost:8080/"
        },
        "id": "3wsQ-wloDaOg",
        "outputId": "a495f9bf-4271-4123-c37e-6b3c970ec1f3"
      },
      "execution_count": null,
      "outputs": [
        {
          "output_type": "stream",
          "name": "stdout",
          "text": [
            "enter a number3\n",
            "enter a number4\n",
            "enter a number6\n",
            "6\n"
          ]
        }
      ]
    },
    {
      "cell_type": "markdown",
      "source": [
        "5.Write a Python program that calculates the absolute value of a number using if-else."
      ],
      "metadata": {
        "id": "B1uABWlvDgm4"
      }
    },
    {
      "cell_type": "code",
      "source": [
        "#Write a Python program that calculates the absolute value of a number using if-else.\n",
        "n=int(input('enter a number'))\n",
        "if(n<0):\n",
        "  print(-n)\n",
        "else:\n",
        "  print(n)\n"
      ],
      "metadata": {
        "colab": {
          "base_uri": "https://localhost:8080/"
        },
        "id": "5-6JhTPPDfVB",
        "outputId": "55897c3f-a0d7-43f3-fa84-992513d7e738"
      },
      "execution_count": null,
      "outputs": [
        {
          "output_type": "stream",
          "name": "stdout",
          "text": [
            "enter a number-4\n",
            "4\n"
          ]
        }
      ]
    },
    {
      "cell_type": "markdown",
      "source": [
        "6.Create a Python program that checks if a given character is a vowel or consonant using if-else.\n"
      ],
      "metadata": {
        "id": "HuRkWWa4D0No"
      }
    },
    {
      "cell_type": "code",
      "source": [
        "#Python program that checks if a given character is a vowel or consonant using if-else.\n",
        "#  Getting a character from the user\n",
        "char = input(\"Enter a character: \").lower()\n",
        "\n",
        "# Checking if the input is a single alphabet character\n",
        "if len(char) == 1 and char.isalpha():\n",
        "    # Checking if the character is a vowel\n",
        "    if char in 'aeiou':\n",
        "        print(f\"{char} is a vowel.\")\n",
        "    else:\n",
        "        print(f\"{char} is a consonant.\")\n",
        "else:\n",
        "    print(\"Invalid input. Please enter a single alphabetic character.\")\n",
        "\n"
      ],
      "metadata": {
        "colab": {
          "base_uri": "https://localhost:8080/"
        },
        "id": "Xr8Dcs7fDqWe",
        "outputId": "d2cc6698-e36e-4c04-cda9-f9111500ff85"
      },
      "execution_count": null,
      "outputs": [
        {
          "output_type": "stream",
          "name": "stdout",
          "text": [
            "Enter a character: a\n",
            "a is a vowel.\n"
          ]
        }
      ]
    },
    {
      "cell_type": "markdown",
      "source": [
        "7.Write a Python program to determine if a user is eligible to vote based on their age using if-else.\n"
      ],
      "metadata": {
        "id": "zuHhwtvYEJLG"
      }
    },
    {
      "cell_type": "code",
      "source": [
        "# Python program to determine if a user is eligible to vote based on their age using if-else.\n",
        "age=int(input('enter your age'))\n",
        "if(age>=18):\n",
        "  print('eligible')\n",
        "else:\n",
        "  print('not eligible')"
      ],
      "metadata": {
        "colab": {
          "base_uri": "https://localhost:8080/"
        },
        "id": "RTH-WNQ-EIUq",
        "outputId": "3f3c5fef-a83c-4c1f-b596-9a97874f4fe2"
      },
      "execution_count": null,
      "outputs": [
        {
          "output_type": "stream",
          "name": "stdout",
          "text": [
            "enter your age23\n",
            "eligible\n"
          ]
        }
      ]
    },
    {
      "cell_type": "markdown",
      "source": [
        "8.Create a Python program that calculates the discount amount based on the purchase amount using if-else.\n"
      ],
      "metadata": {
        "id": "kR7_d8YwEREY"
      }
    },
    {
      "cell_type": "code",
      "source": [
        "#Python program that calculates the discount amount based on the purchase amount using if-else.\n",
        "\n",
        "#  Getting the purchase amount from the user\n",
        "purchase_amount = float(input(\"Enter the purchase amount: \"))\n",
        "\n",
        "# Initializing discount rate\n",
        "discount_rate = 0.0\n",
        "\n",
        "# Determine the discount rate based on the purchase amount\n",
        "if purchase_amount >= 5000:\n",
        "    discount_rate = 0.20  # 20% discount for purchases of $5000 or more\n",
        "elif purchase_amount >= 2000:\n",
        "    discount_rate = 0.15  # 15% discount for purchases between $2000 and $4999.99\n",
        "elif purchase_amount >= 1000:\n",
        "    discount_rate = 0.10  # 10% discount for purchases between $1000 and $1999.99\n",
        "elif purchase_amount >= 500:\n",
        "    discount_rate = 0.05  # 5% discount for purchases between $500 and $999.99\n",
        "else:\n",
        "    discount_rate = 0.0   # No discount for purchases below $500\n",
        "\n",
        "# Calculating the discount amount\n",
        "discount_amount = purchase_amount * discount_rate\n",
        "\n",
        "# Calculating the final amount after the discount\n",
        "final_amount = purchase_amount - discount_amount\n",
        "\n",
        "# printing discount and final amount\n",
        "print(f\"Discount Amount: ${discount_amount:.2f}\")\n",
        "print(f\"Final Amount to Pay: ${final_amount:.2f}\")\n"
      ],
      "metadata": {
        "colab": {
          "base_uri": "https://localhost:8080/"
        },
        "id": "avrbOP8kEQaH",
        "outputId": "0476af0b-5681-4dc6-88f0-9968d66712dd"
      },
      "execution_count": null,
      "outputs": [
        {
          "output_type": "stream",
          "name": "stdout",
          "text": [
            "Enter the purchase amount: 3000\n",
            "Discount Amount: $450.00\n",
            "Final Amount to Pay: $2550.00\n"
          ]
        }
      ]
    },
    {
      "cell_type": "markdown",
      "source": [
        "9.Write a Python program to check if a number is within a specified range using if-else.\n"
      ],
      "metadata": {
        "id": "NXRYDFnGEwkT"
      }
    },
    {
      "cell_type": "code",
      "source": [
        "# Python program to check if a number is within a specified range using if-else.\n",
        "n=int(input('enter a number'))\n",
        "min_range=int(input('enter min range'))\n",
        "max_range=int(input('enter max range'))\n",
        "if(n>=min_range and n<=max_range):\n",
        "  print('within range')\n",
        "else:\n",
        "  print('not within range')"
      ],
      "metadata": {
        "colab": {
          "base_uri": "https://localhost:8080/"
        },
        "id": "3zfbq4zpE0aB",
        "outputId": "8122e3b3-692a-4d9f-de40-6941405b945c"
      },
      "execution_count": null,
      "outputs": [
        {
          "output_type": "stream",
          "name": "stdout",
          "text": [
            "enter a number4\n",
            "enter min range1\n",
            "enter max range6\n",
            "within range\n"
          ]
        }
      ]
    },
    {
      "cell_type": "markdown",
      "source": [
        "10.Create a Python program that determines the grade of a student based on their score using if-else."
      ],
      "metadata": {
        "id": "okO0Q8SYFGx2"
      }
    },
    {
      "cell_type": "code",
      "source": [
        "# Python program that determines the grade of a student based on their score using if-else.\n",
        "#  Getting the student's score from the user\n",
        "score = float(input(\"Enter the student's score: \"))\n",
        "\n",
        "# Determining the grade based on the score\n",
        "if score >= 90:\n",
        "    grade = 'A'\n",
        "elif score >= 80:\n",
        "    grade = 'B'\n",
        "elif score >= 70:\n",
        "    grade = 'C'\n",
        "elif score >= 60:\n",
        "    grade = 'D'\n",
        "else:\n",
        "    grade = 'F'\n",
        "\n",
        "# printing the grade\n",
        "print(f\"The student's grade is: {grade}\")\n",
        "\n"
      ],
      "metadata": {
        "colab": {
          "base_uri": "https://localhost:8080/"
        },
        "id": "wMRFmc7vFIsq",
        "outputId": "a88a7a54-ec51-4871-a06b-3d29ed1e49ea"
      },
      "execution_count": null,
      "outputs": [
        {
          "output_type": "stream",
          "name": "stdout",
          "text": [
            "Enter the student's score: 89\n",
            "The student's grade is: B\n"
          ]
        }
      ]
    },
    {
      "cell_type": "markdown",
      "source": [
        "11.Write a Python program to check if a string is empty or not using if-else.\n"
      ],
      "metadata": {
        "id": "kkjS7WoXFXQ-"
      }
    },
    {
      "cell_type": "code",
      "source": [
        "#Python program to check if a string is empty or not using if-else.\n",
        "s=input('enter a string')\n",
        "if(len(s)==0):\n",
        "  print('empty')\n",
        "else:\n",
        "  print('not empty')"
      ],
      "metadata": {
        "colab": {
          "base_uri": "https://localhost:8080/"
        },
        "id": "fle97m7gFa3B",
        "outputId": "66c3061c-49ea-43e1-b78d-e181a028ec02"
      },
      "execution_count": null,
      "outputs": [
        {
          "output_type": "stream",
          "name": "stdout",
          "text": [
            "enter a string\n",
            "empty\n"
          ]
        }
      ]
    },
    {
      "cell_type": "markdown",
      "source": [
        "12.Create a Python program that identifies the type of a triangle (e.g., equilateral, isosceles, or scalene) based on input values using if-else.\n"
      ],
      "metadata": {
        "id": "yJTD-YhmFemY"
      }
    },
    {
      "cell_type": "code",
      "source": [
        "#Python program that identifies the type of a triangle (e.g., equilateral, isosceles, or scalene) based on input values using if-else.\n",
        "# Getting the lengths of the three sides from the user\n",
        "a = float(input(\"Enter the length of side a: \"))\n",
        "b = float(input(\"Enter the length of side b: \"))\n",
        "c = float(input(\"Enter the length of side c: \"))\n",
        "\n",
        "# Function to check if the sides form a valid triangle\n",
        "def is_valid_triangle(a, b, c):\n",
        "    return a + b > c and a + c > b and b + c > a\n",
        "\n",
        "# Checking if the given sides form a valid triangle\n",
        "if is_valid_triangle(a, b, c):\n",
        "    # Determining the type of triangle\n",
        "    if a == b == c:\n",
        "        triangle_type = 'Equilateral'\n",
        "    elif a == b or a == c or b == c:\n",
        "        triangle_type = 'Isosceles'\n",
        "    else:\n",
        "        triangle_type = 'Scalene'\n",
        "\n",
        "    # printing the type of triangle\n",
        "    print(f\"The triangle is {triangle_type}.\")\n",
        "else:\n",
        "    print(\"The given sides do not form a valid triangle.\")\n",
        "\n"
      ],
      "metadata": {
        "colab": {
          "base_uri": "https://localhost:8080/"
        },
        "id": "Qoe4VVyjFgfo",
        "outputId": "10273922-36f1-4cff-e72b-fd4b025500dd"
      },
      "execution_count": null,
      "outputs": [
        {
          "output_type": "stream",
          "name": "stdout",
          "text": [
            "Enter the length of side a: 2\n",
            "Enter the length of side b: 3\n",
            "Enter the length of side c: 4\n",
            "The triangle is Scalene.\n"
          ]
        }
      ]
    },
    {
      "cell_type": "markdown",
      "source": [
        "13.Write a Python program to determine the day of the week based on a user-provided number using if-else."
      ],
      "metadata": {
        "id": "8CLUa3nbFyY7"
      }
    },
    {
      "cell_type": "code",
      "source": [
        "#Python program to determine the day of the week based on a user-provided number using if-else.\n",
        "#  Getting a number from the user\n",
        "number = int(input(\"Enter a number (1-7) to determine the day of the week: \"))\n",
        "\n",
        "# Determining the day of the week based on the number\n",
        "if number == 1:\n",
        "    day = 'Monday'\n",
        "elif number == 2:\n",
        "    day = 'Tuesday'\n",
        "elif number == 3:\n",
        "    day = 'Wednesday'\n",
        "elif number == 4:\n",
        "    day = 'Thursday'\n",
        "elif number == 5:\n",
        "    day = 'Friday'\n",
        "elif number == 6:\n",
        "    day = 'Saturday'\n",
        "elif number == 7:\n",
        "    day = 'Sunday'\n",
        "else:\n",
        "    day = 'Invalid number. Please enter a number between 1 and 7.'\n",
        "\n",
        "# printing the day of the week\n",
        "print(f\"The day of the week is: {day}\")\n"
      ],
      "metadata": {
        "colab": {
          "base_uri": "https://localhost:8080/"
        },
        "id": "arXs0JgbF1_4",
        "outputId": "2ed9b917-2953-4568-9919-2accb0f917a6"
      },
      "execution_count": null,
      "outputs": [
        {
          "output_type": "stream",
          "name": "stdout",
          "text": [
            "Enter a number (1-7) to determine the day of the week: 4\n",
            "The day of the week is: Thursday\n"
          ]
        }
      ]
    },
    {
      "cell_type": "markdown",
      "source": [
        "14.Create a Python program that checks if a given year is a leap year using both if-else and a function.\n"
      ],
      "metadata": {
        "id": "mcA9vxitJNym"
      }
    },
    {
      "cell_type": "code",
      "source": [
        "\n",
        "def is_leap_year(year):\n",
        "    \"\"\"\n",
        "    Function to check if a given year is a leap year.\n",
        "    \"\"\"\n",
        "    if (year % 4 == 0):\n",
        "        if (year % 100 == 0):\n",
        "            if (year % 400 == 0):\n",
        "                return True\n",
        "            else:\n",
        "                return False\n",
        "        else:\n",
        "            return True\n",
        "    else:\n",
        "        return False\n",
        "\n",
        "#  Getting a year from the user\n",
        "year = int(input(\"Enter a year: \"))\n",
        "\n",
        "# Checking if the year is a leap year using the function\n",
        "if is_leap_year(year):\n",
        "    print(f\"{year} is a leap year.\")\n",
        "else:\n",
        "    print(f\"{year} is not a leap year.\")\n",
        "\n"
      ],
      "metadata": {
        "colab": {
          "base_uri": "https://localhost:8080/"
        },
        "id": "PAPkS9YUJJf4",
        "outputId": "3d884ec1-28eb-4fa8-fc28-0a698117cfed"
      },
      "execution_count": null,
      "outputs": [
        {
          "output_type": "stream",
          "name": "stdout",
          "text": [
            "Enter a year: 2024\n",
            "2024 is a leap year.\n"
          ]
        }
      ]
    },
    {
      "cell_type": "markdown",
      "source": [
        "15.How do you use the \"assert\" statement in Python to add debugging checks within if-else blocks?\n"
      ],
      "metadata": {
        "id": "Y8OSRw_lJmSx"
      }
    },
    {
      "cell_type": "markdown",
      "source": [
        "answer:\n",
        "\n",
        "\n",
        "The assert statement in Python is used for debugging purposes to check if a condition is true. If the condition evaluates to False, assert raises an AssertionError exception, which can include an optional message. This can be useful for verifying that certain conditions hold true during the execution of a program and can help identify bugs early.\n",
        "\n",
        "\n",
        "\n",
        "\n"
      ],
      "metadata": {
        "id": "z2braNSjJpAs"
      }
    },
    {
      "cell_type": "code",
      "source": [
        "#example code using assert in if else block\n",
        "#if the asset condition is true it wont raises any error but if the condition is false then it raises assertionError and we can also\n",
        "#give optional message\n",
        "\n",
        "\n",
        "\n",
        "#our aim is if negative number occurs we have to raise assertionError while calculating squre of number\n",
        "\n",
        "\n",
        "def calculate_square(number):\n",
        "    # Check if the number is non-negative\n",
        "    assert number >= 0, \"The number must be non-negative.\"\n",
        "\n",
        "    # Calculate the square of the number\n",
        "    return number * number\n",
        "\n",
        "# Input: Get a number from the user\n",
        "num = int(input(\"Enter a number: \"))\n",
        "\n",
        "# Use the function and handle possible assertion errors\n",
        "try:\n",
        "    result = calculate_square(num)\n",
        "    print(f\"The square of {num} is {result}.\")\n",
        "except AssertionError as e:\n",
        "    print(f\"AssertionError: {e}\")\n"
      ],
      "metadata": {
        "colab": {
          "base_uri": "https://localhost:8080/"
        },
        "id": "FJ9R8t5VJh94",
        "outputId": "e0907763-5b46-49de-87e4-f052c0e3338e"
      },
      "execution_count": null,
      "outputs": [
        {
          "output_type": "stream",
          "name": "stdout",
          "text": [
            "Enter a number: -3\n",
            "AssertionError: The number must be non-negative.\n"
          ]
        }
      ]
    },
    {
      "cell_type": "markdown",
      "source": [
        "16.Create a Python program that determines the eligibility of a person for a senior citizen discount based on age using if-else.\n"
      ],
      "metadata": {
        "id": "wQFj9i2lK4q7"
      }
    },
    {
      "cell_type": "code",
      "source": [
        "#Python program that determines the eligibility of a person for a senior citizen discount based on age using if-else.\n",
        "# Defining the function to check senior citizen eligibility\n",
        "def check_senior_discount(age):\n",
        "    # Eligibility criteria for senior citizen discount\n",
        "    if age >= 65:\n",
        "        return \"You are eligible for a senior citizen discount.\"\n",
        "    else:\n",
        "        return \"You are not eligible for a senior citizen discount.\"\n",
        "\n",
        "# Getting the age from the user\n",
        "age = int(input(\"Enter your age: \"))\n",
        "\n",
        "# Checking eligibility and display result\n",
        "result = check_senior_discount(age)\n",
        "print(result)\n",
        "\n"
      ],
      "metadata": {
        "colab": {
          "base_uri": "https://localhost:8080/"
        },
        "id": "iqNBgP40Kbue",
        "outputId": "8f8fefca-63df-48ce-bd7a-ef9a9fbb39dd"
      },
      "execution_count": null,
      "outputs": [
        {
          "output_type": "stream",
          "name": "stdout",
          "text": [
            "Enter your age: 35\n",
            "You are not eligible for a senior citizen discount.\n"
          ]
        }
      ]
    },
    {
      "cell_type": "markdown",
      "source": [
        "17.Write a Python program to categorize a given character as uppercase, lowercase, or neither using if-else.\n"
      ],
      "metadata": {
        "id": "a7EsHzZqLsG2"
      }
    },
    {
      "cell_type": "code",
      "source": [
        "#a Python program to categorize a given character as uppercase, lowercase, or neither using if-else.\n",
        "# Function to categorize the character\n",
        "def categorize_character(char):\n",
        "    # Check if the character is uppercase\n",
        "    if char.isupper():\n",
        "        return \"The character is uppercase.\"\n",
        "    # Checking if the character is lowercase\n",
        "    elif char.islower():\n",
        "        return \"The character is lowercase.\"\n",
        "    # If neither, it's neither uppercase nor lowercase\n",
        "    else:\n",
        "        return \"The character is neither uppercase nor lowercase.\"\n",
        "\n",
        "#  Getting a single character from the user\n",
        "char = input(\"Enter a single character: \")\n",
        "\n",
        "# Ensuring the input is a single character\n",
        "if len(char) != 1:\n",
        "    print(\"Please enter exactly one character.\")\n",
        "else:\n",
        "    # Checking the category and display the result\n",
        "    result = categorize_character(char)\n",
        "    print(result)\n",
        "\n",
        "\n"
      ],
      "metadata": {
        "colab": {
          "base_uri": "https://localhost:8080/"
        },
        "id": "1uaSu0HOLIRg",
        "outputId": "518dc2b0-18df-4199-a812-e75469fd444f"
      },
      "execution_count": null,
      "outputs": [
        {
          "output_type": "stream",
          "name": "stdout",
          "text": [
            "Enter a single character: a\n",
            "The character is lowercase.\n"
          ]
        }
      ]
    },
    {
      "cell_type": "markdown",
      "source": [
        "18.Write a Python program to determine the roots of a quadratic equation using if-else"
      ],
      "metadata": {
        "id": "gvS3aLslMLXg"
      }
    },
    {
      "cell_type": "code",
      "source": [
        "# Python program to determine the roots of a quadratic equation using if-else\n",
        "import math\n",
        "\n",
        "def find_roots(a, b, c):\n",
        "    \"\"\"\n",
        "    Function to determine the roots of the quadratic equation ax^2 + bx + c = 0\n",
        "    \"\"\"\n",
        "    # Calculating the discriminant\n",
        "    discriminant = b**2 - 4*a*c\n",
        "\n",
        "    if discriminant > 0:\n",
        "        # Two real and distinct roots\n",
        "        root1 = (-b + math.sqrt(discriminant)) / (2 * a)\n",
        "        root2 = (-b - math.sqrt(discriminant)) / (2 * a)\n",
        "        return f\"The roots are real and distinct: {root1:.2f} and {root2:.2f}\"\n",
        "    elif discriminant == 0:\n",
        "        # One real root (repeated)\n",
        "        root = -b / (2 * a)\n",
        "        return f\"The root is real and repeated: {root:.2f}\"\n",
        "    else:\n",
        "        # Complex roots\n",
        "        real_part = -b / (2 * a)\n",
        "        imaginary_part = math.sqrt(-discriminant) / (2 * a)\n",
        "        return f\"The roots are complex: {real_part:.2f} ± {imaginary_part:.2f}i\"\n",
        "\n",
        "# Getting coefficients from the user\n",
        "a = float(input(\"Enter the coefficient a: \"))\n",
        "b = float(input(\"Enter the coefficient b: \"))\n",
        "c = float(input(\"Enter the coefficient c: \"))\n",
        "\n",
        "# Ensuring a is not zero to avoid division by zero\n",
        "if a == 0:\n",
        "    print(\"Coefficient a cannot be zero in a quadratic equation.\")\n",
        "else:\n",
        "    # Determine and print the roots\n",
        "    result = find_roots(a, b, c)\n",
        "    print(result)\n",
        "\n"
      ],
      "metadata": {
        "colab": {
          "base_uri": "https://localhost:8080/"
        },
        "id": "VDmpzs0aMI1_",
        "outputId": "cd6b1c3a-2058-4ba5-f338-7452d7be8c56"
      },
      "execution_count": null,
      "outputs": [
        {
          "output_type": "stream",
          "name": "stdout",
          "text": [
            "Enter the coefficient a: 2\n",
            "Enter the coefficient b: 3\n",
            "Enter the coefficient c: 4\n",
            "The roots are complex: -0.75 ± 1.20i\n"
          ]
        }
      ]
    },
    {
      "cell_type": "markdown",
      "source": [
        "19.Create a Python program that checks if a given year is a century year or not using if-else.\n"
      ],
      "metadata": {
        "id": "Tw9ZYf1kMdy3"
      }
    },
    {
      "cell_type": "code",
      "source": [
        "#Python program that checks if a given year is a century year or not using if-else.\n",
        "# Getting a year from the user\n",
        "year = int(input(\"Enter a year: \"))\n",
        "\n",
        "# Checking if it's a century year\n",
        "if year % 100 == 0:\n",
        "    print(f\"{year} is a century year.\")\n",
        "else:\n",
        "  print(f\"{year} is not a century year.\")"
      ],
      "metadata": {
        "colab": {
          "base_uri": "https://localhost:8080/"
        },
        "id": "SBXUTuwMMadg",
        "outputId": "8051e104-5d37-47f7-bbec-ed74f2782972"
      },
      "execution_count": null,
      "outputs": [
        {
          "output_type": "stream",
          "name": "stdout",
          "text": [
            "Enter a year: 2000\n",
            "2000 is a century year.\n"
          ]
        }
      ]
    },
    {
      "cell_type": "markdown",
      "source": [
        "20.Write a Python program to determine if a given number is a perfect square using if-else.\n"
      ],
      "metadata": {
        "id": "8T7G1YxKMsf8"
      }
    },
    {
      "cell_type": "code",
      "source": [
        "#Python program to determine if a given number is a perfect square using if-else.\n",
        "import math\n",
        "\n",
        "def is_perfect_square(number):\n",
        "    \"\"\"\n",
        "    Function to determine if the given number is a perfect square.\n",
        "    \"\"\"\n",
        "    if number < 0:\n",
        "        return \"The number is negative and cannot be a perfect square.\"\n",
        "\n",
        "    # Calculating the square root of the number\n",
        "    sqrt_number = math.sqrt(number)\n",
        "\n",
        "    # Checking if the square root is an integer\n",
        "    if sqrt_number.is_integer():\n",
        "        return \"The number is a perfect square.\"\n",
        "    else:\n",
        "        return \"The number is not a perfect square.\"\n",
        "\n",
        "# Getting a number from the user\n",
        "number = int(input(\"Enter a number: \"))\n",
        "\n",
        "# Checking if the number is a perfect square and display the result\n",
        "result = is_perfect_square(number)\n",
        "print(result)\n",
        "\n"
      ],
      "metadata": {
        "colab": {
          "base_uri": "https://localhost:8080/"
        },
        "id": "z_Y0ut_-Mh_f",
        "outputId": "8525c87e-7c94-42c7-eb30-c0adf9e73e7a"
      },
      "execution_count": null,
      "outputs": [
        {
          "output_type": "stream",
          "name": "stdout",
          "text": [
            "Enter a number: 36\n",
            "The number is a perfect square.\n"
          ]
        }
      ]
    },
    {
      "cell_type": "markdown",
      "source": [
        "21.Explain the purpose of the \"continue\" and \"break\" statements within if-else loops.\n"
      ],
      "metadata": {
        "id": "cH6OJL12ND7X"
      }
    },
    {
      "cell_type": "markdown",
      "source": [
        "purpose of continue and break statements:\n",
        "\n",
        "\n",
        "continue:\n",
        "\n",
        "continue is a control statement . this statement can be used to skip the current iteration without actually ending the loop. this statement is only used inside loops. when this statement has executed, then it will triggers to skip the current iteration and control will goes to next iteration\n",
        "\n",
        "break:\n",
        "\n",
        "break is also a control statement. it is used to break the currently executing loop. that means it will terminates the entrite loop and control will goes to outside loop\n",
        "\n",
        "\n",
        "pass:\n",
        "\n",
        "pass is also a control statement that can be used to specify to python intrepeter that no content is available here. example in creating empty functions.\n",
        "if we dont use pass then python will through an error."
      ],
      "metadata": {
        "id": "TakrTS6yNJHW"
      }
    },
    {
      "cell_type": "code",
      "source": [
        "#code:\n",
        "\n",
        "for i in range(1,5):\n",
        "  if i==2:\n",
        "    continue\n",
        "  elif i==4:\n",
        "    break\n",
        "  elif i==1:\n",
        "    pass\n",
        "  else:\n",
        "    print(i)"
      ],
      "metadata": {
        "colab": {
          "base_uri": "https://localhost:8080/"
        },
        "id": "GwQnk1JEM-1c",
        "outputId": "c940baed-1474-48d2-9970-080097d3a273"
      },
      "execution_count": null,
      "outputs": [
        {
          "output_type": "stream",
          "name": "stdout",
          "text": [
            "3\n"
          ]
        }
      ]
    },
    {
      "cell_type": "markdown",
      "source": [
        "22.Create a Python program that calculates the BMI (Body Mass Index) of a person based on their weight and height using if-else"
      ],
      "metadata": {
        "id": "RvvHsYHkOhIm"
      }
    },
    {
      "cell_type": "code",
      "source": [
        "#Python program that calculates the BMI (Body Mass Index) of a person based on their weight and height using if-else\n",
        "def calculate_bmi(weight, height):\n",
        "    \"\"\"\n",
        "    Function to calculate BMI and categorize it based on weight and height.\n",
        "    \"\"\"\n",
        "    # Calculating BMI\n",
        "    bmi = weight / (height ** 2)\n",
        "\n",
        "    # Categorizing the BMI\n",
        "    if bmi < 18.5:\n",
        "        return f\"Your BMI is {bmi:.2f}. You are underweight.\"\n",
        "    elif 18.5 <= bmi < 24.9:\n",
        "        return f\"Your BMI is {bmi:.2f}. You have a normal weight.\"\n",
        "    elif 25 <= bmi < 29.9:\n",
        "        return f\"Your BMI is {bmi:.2f}. You are overweight.\"\n",
        "    else:\n",
        "        return f\"Your BMI is {bmi:.2f}. You are obese.\"\n",
        "\n",
        "# Getting weight and height from the user\n",
        "weight = float(input(\"Enter your weight in kilograms: \"))\n",
        "height = float(input(\"Enter your height in meters: \"))\n",
        "\n",
        "# Ensuring height is not zero to avoid division by zero\n",
        "if height <= 0:\n",
        "    print(\"Height must be greater than zero.\")\n",
        "else:\n",
        "    # Calculating and print the BMI category\n",
        "    result = calculate_bmi(weight, height)\n",
        "    print(result)\n",
        "\n"
      ],
      "metadata": {
        "colab": {
          "base_uri": "https://localhost:8080/"
        },
        "id": "c6XLLsEEOSnX",
        "outputId": "6202118f-f94b-4da1-dec8-f967d34288eb"
      },
      "execution_count": null,
      "outputs": [
        {
          "output_type": "stream",
          "name": "stdout",
          "text": [
            "Enter your weight in kilograms: 34\n",
            "Enter your height in meters: 4\n",
            "Your BMI is 2.12. You are underweight.\n"
          ]
        }
      ]
    },
    {
      "cell_type": "markdown",
      "source": [
        "23.How can you use the \"filter()\" function with if-else statements to filter elements from a list?\n"
      ],
      "metadata": {
        "id": "kD1fqwDzO3i4"
      }
    },
    {
      "cell_type": "markdown",
      "source": [],
      "metadata": {
        "id": "kIMY7kmXPP3W"
      }
    },
    {
      "cell_type": "markdown",
      "source": [
        "The filter() function in Python is used to filter elements from a list (or any iterable) based on a condition defined by a function. The function should return True or False for each element. Elements for which the function returns True will be included in the result.\n",
        "\n",
        "we can use filter() with a lambda function or a user-defined function that incorporates if-else statements to apply filtering logic."
      ],
      "metadata": {
        "id": "ASq9jG-jPQiq"
      }
    },
    {
      "cell_type": "code",
      "source": [
        "#Using filter() with a Lambda Function\n",
        "#A lambda function is an anonymous function defined with the lambda keyword.\n",
        "# You can use it directly within filter()\n",
        "\n",
        "# Defineing the list of numbers\n",
        "numbers = [1, 2, 3, 4, 5, 6, 7, 8, 9, 10]\n",
        "\n",
        "# Using filter() with a lambda function to keep only even numbers\n",
        "even_numbers = filter(lambda x: x % 2 == 0, numbers)\n",
        "\n",
        "# Convert the filter object to a list and print it\n",
        "print(list(even_numbers))\n"
      ],
      "metadata": {
        "colab": {
          "base_uri": "https://localhost:8080/"
        },
        "id": "OTooJlKiOljn",
        "outputId": "8dcd84b5-8443-4a01-af0a-03afab1cf9fb"
      },
      "execution_count": null,
      "outputs": [
        {
          "output_type": "stream",
          "name": "stdout",
          "text": [
            "[2, 4, 6, 8, 10]\n"
          ]
        }
      ]
    },
    {
      "cell_type": "markdown",
      "source": [
        "24.Write a Python program to determine if a given number is prime or not using if-else.\n"
      ],
      "metadata": {
        "id": "sJDQK2QxP2HV"
      }
    },
    {
      "cell_type": "code",
      "source": [
        "# program to determine if a given number is prime or not using if-else.\n",
        "def is_prime(number):\n",
        "    \"\"\"\n",
        "    Function to check if a given number is a prime number.\n",
        "    \"\"\"\n",
        "    if number <= 1:\n",
        "        return \"The number is not a prime number.\"\n",
        "    elif number == 2:\n",
        "        return \"The number is a prime number.\"\n",
        "    elif number % 2 == 0:\n",
        "        return \"The number is not a prime number.\"\n",
        "\n",
        "    # Checking  for factors from 3 to the square root of the number\n",
        "    for i in range(3, int(number**0.5) + 1, 2):\n",
        "        if number % i == 0:\n",
        "            return \"The number is not a prime number.\"\n",
        "\n",
        "    return \"The number is a prime number.\"\n",
        "\n",
        "# Getting  a number from the user\n",
        "number = int(input(\"Enter a number: \"))\n",
        "\n",
        "# Check if the number is prime and display the result\n",
        "result = is_prime(number)\n",
        "print(result)\n"
      ],
      "metadata": {
        "colab": {
          "base_uri": "https://localhost:8080/"
        },
        "id": "4MxCwP-YPxYL",
        "outputId": "b3b748b7-f47f-4bad-c102-dd9fd69244fe"
      },
      "execution_count": null,
      "outputs": [
        {
          "output_type": "stream",
          "name": "stdout",
          "text": [
            "Enter a number: 23\n",
            "The number is a prime number.\n"
          ]
        }
      ]
    },
    {
      "cell_type": "markdown",
      "source": [
        "MAP"
      ],
      "metadata": {
        "id": "JPLOeuloQ2fT"
      }
    },
    {
      "cell_type": "markdown",
      "source": [
        "1.Explain the purpose of the `map()` function in Python and provide an example of how it can be used to apply a function to each element of an iterable.\n"
      ],
      "metadata": {
        "id": "mtEwl6k5RAlO"
      }
    },
    {
      "cell_type": "markdown",
      "source": [
        "The map() function in Python is used to apply a given function to each item of an iterable (like a list or tuple) and return an iterable (a map object) with the results. It allows you to transform the elements of an iterable in a concise and functional programming style.\n",
        "\n",
        "\n",
        "\n",
        "Purpose of map() Function:\n",
        "\n",
        "\n",
        "Transformation: map() applies a function to every item of the iterable, effectively transforming the iterable into a new iterable with modified items.\n",
        "\n",
        "\n",
        "Convenience: It provides a clean and readable way to apply a function to all elements without needing to write an explicit loop.\n",
        "\n"
      ],
      "metadata": {
        "id": "ywB1QafsREQ4"
      }
    },
    {
      "cell_type": "code",
      "source": [
        "#code\n",
        "# Defining the function to be applied\n",
        "def square(x):\n",
        "    return x * x\n",
        "\n",
        "# List of numbers\n",
        "numbers = [1, 2, 3, 4, 5]\n",
        "\n",
        "# Using map() to apply the square function to each element of the list\n",
        "squared_numbers = map(square, numbers)\n",
        "\n",
        "# Converting the map object to a list and print the result\n",
        "print(list(squared_numbers))  # Output: [1, 4, 9, 16, 25]\n"
      ],
      "metadata": {
        "colab": {
          "base_uri": "https://localhost:8080/"
        },
        "id": "65Pb0gVlQypi",
        "outputId": "6ae69d9c-1302-4247-dc1f-e4227aa69033"
      },
      "execution_count": null,
      "outputs": [
        {
          "output_type": "stream",
          "name": "stdout",
          "text": [
            "[1, 4, 9, 16, 25]\n"
          ]
        }
      ]
    },
    {
      "cell_type": "markdown",
      "source": [
        "2.Write a Python program that uses the `map()` function to square each element of a list of numbers"
      ],
      "metadata": {
        "id": "UugMZelERZnN"
      }
    },
    {
      "cell_type": "code",
      "source": [
        "#Python program that uses the map() function to square each element of a list of numbers\n",
        "# Define the function to be applied\n",
        "def square(x):\n",
        "    return x * x\n",
        "\n",
        "# List of numbers\n",
        "numbers = [1, 2, 3, 4, 5]\n",
        "\n",
        "# Using map() to apply the square function to each element of the list\n",
        "squared_numbers = map(square, numbers)\n",
        "\n",
        "# Converting the map object to a list and print the result\n",
        "print(\"Original list:\", numbers)\n",
        "print(\"Squared list:\", list(squared_numbers))\n",
        "\n",
        "\n"
      ],
      "metadata": {
        "colab": {
          "base_uri": "https://localhost:8080/"
        },
        "id": "rQ4KPNd7RXCW",
        "outputId": "0b556eca-6de3-49d1-9523-860d81cd669a"
      },
      "execution_count": null,
      "outputs": [
        {
          "output_type": "stream",
          "name": "stdout",
          "text": [
            "Original list: [1, 2, 3, 4, 5]\n",
            "Squared list: [1, 4, 9, 16, 25]\n"
          ]
        }
      ]
    },
    {
      "cell_type": "code",
      "source": [],
      "metadata": {
        "id": "SIPWXok4RetR"
      },
      "execution_count": null,
      "outputs": []
    },
    {
      "cell_type": "markdown",
      "source": [
        "3.How does the `map()` function differ from a list comprehension in Python, and when would you choose one over the other?\n"
      ],
      "metadata": {
        "id": "_H3w1b4USUDd"
      }
    },
    {
      "cell_type": "markdown",
      "source": [
        "The map() function and list comprehensions are both used to apply a transformation to each element of an iterable in Python, but they differ in syntax, readability, and flexibility\n",
        "\n",
        "\n",
        "\n",
        "\n",
        "\n",
        "advantages of map():\n",
        "\n",
        "\n",
        "Advantages:\n",
        "\n",
        "\n",
        "\n",
        "Separation of Concerns: The function is defined separately from the iteration, which can be useful for reusability.\n",
        "\n",
        "\n",
        "\n",
        "Suitable for Functional Programming: Fits well with functional programming paradigms, where you apply a function to a sequence of values.\n",
        "\n",
        "\n",
        "\n",
        "\n",
        "Disadvantages:\n",
        "\n",
        "\n",
        "Less Readable: The syntax can be less intuitive, especially for complex transformations.\n",
        "\n",
        "\n",
        "Less Flexible: The function must be defined separately or be a lambda function, which can be less flexible than list comprehensions for more complex expressions\n",
        "\n",
        "\n",
        "\n",
        "LIST COMPREHENSION:\n",
        "\n",
        "SYNTAX:\n",
        "[expression for item in iterable]\n",
        "\n",
        "\n",
        "\n",
        "\n",
        "\n",
        "Advantages:\n",
        "\n",
        "\n",
        "\n",
        "\n",
        "Readability: List comprehensions are often more readable and concise, especially for simple transformations.\n",
        "\n",
        "\n",
        "Flexibility: Allows for inline conditional logic and more complex expressions.\n",
        "\n",
        "\n",
        "\n",
        "\n",
        "Disadvantages:\n",
        "\n",
        "\n",
        "\n",
        "\n",
        "Complexity: For very complex transformations, list comprehensions can become less readable and harder to maintain.\n",
        "\n",
        "Performance: There can be a slight performance difference between map() and list comprehensions, though this is often negligible for most use cases.\n",
        "\n",
        "\n",
        "\n",
        "\n",
        "When to Choose One Over the Other:\n",
        "\n",
        "\n",
        "\n",
        "\n",
        "\n",
        "Use map() When:\n",
        "\n",
        "\n",
        "\n",
        "\n",
        "we have an existing function that you want to apply to each element of the iterable.\n",
        "we prefer a functional programming style or are working with functional programming concepts.\n",
        "The transformation logic is simple and we want to keep the function separate from the transformation process.\n",
        "\n",
        "\n",
        "\n",
        "\n",
        "\n",
        "Use List Comprehension When:\n",
        "\n",
        "\n",
        "\n",
        "we want a more readable and Pythonic way to transform elements.\n",
        "The transformation involves inline conditional logic or more complex expressions.\n",
        "we prefer to keep the transformation logic within the same line of code for simplicity.\n"
      ],
      "metadata": {
        "id": "rNl-cfpoSsR6"
      }
    },
    {
      "cell_type": "code",
      "source": [
        "#using map()\n",
        "numbers = [1, 2, 3, 4, 5]\n",
        "squared_numbers = map(lambda x: x * x, numbers)\n",
        "print(list(squared_numbers))\n",
        "\n",
        "\n",
        "\n",
        "#using list comprehension()\n",
        "numbers = [1, 2, 3, 4, 5]\n",
        "squared_numbers = [x * x for x in numbers if x % 2 == 0]\n",
        "print(squared_numbers)\n",
        "\n",
        "\n"
      ],
      "metadata": {
        "colab": {
          "base_uri": "https://localhost:8080/"
        },
        "id": "AsAgE75ISXMp",
        "outputId": "ca1d49ab-6b5d-4c35-8b26-5c8d4d071385"
      },
      "execution_count": null,
      "outputs": [
        {
          "output_type": "stream",
          "name": "stdout",
          "text": [
            "[1, 4, 9, 16, 25]\n",
            "[4, 16]\n"
          ]
        }
      ]
    },
    {
      "cell_type": "markdown",
      "source": [
        "4.Create a Python program that uses the `map()` function to convert a list of names to uppercase.\n"
      ],
      "metadata": {
        "id": "fZAuX2KDUVlA"
      }
    },
    {
      "cell_type": "code",
      "source": [
        "# Python program that uses the map() function to convert a list of names to uppercase.\n",
        "# Defining the function to convert a name to uppercase\n",
        "def to_uppercase(name):\n",
        "    return name.upper()\n",
        "\n",
        "# List of names\n",
        "names = ['alice', 'bob', 'charlie', 'diana']\n",
        "\n",
        "# Using map() to apply the to_uppercase function to each element of the list\n",
        "uppercase_names = map(to_uppercase, names)\n",
        "\n",
        "# Converting the map object to a list and print the result\n",
        "print(\"Original list:\", names)\n",
        "print(\"Uppercase list:\", list(uppercase_names))\n"
      ],
      "metadata": {
        "colab": {
          "base_uri": "https://localhost:8080/"
        },
        "id": "9yfmdaxEUN8T",
        "outputId": "06b593fd-a9ca-4386-f051-1fabbc7ebe79"
      },
      "execution_count": null,
      "outputs": [
        {
          "output_type": "stream",
          "name": "stdout",
          "text": [
            "Original list: ['alice', 'bob', 'charlie', 'diana']\n",
            "Uppercase list: ['ALICE', 'BOB', 'CHARLIE', 'DIANA']\n"
          ]
        }
      ]
    },
    {
      "cell_type": "markdown",
      "source": [
        "5.Write a Python program that uses the `map()` function to calculate the length of each word in a list of strings.\n"
      ],
      "metadata": {
        "id": "1ecfwJpLUh2l"
      }
    },
    {
      "cell_type": "code",
      "source": [
        "#Python program that uses the map() function to calculate the length of each word in a list of strings.\n",
        "# Defining the function to calculate the length of a word\n",
        "def word_length(word):\n",
        "    return len(word)\n",
        "\n",
        "# List of words\n",
        "words = ['apple', 'banana', 'cherry', 'date']\n",
        "\n",
        "# Using map() to apply the word_length function to each element of the list\n",
        "lengths = map(word_length, words)\n",
        "\n",
        "# Converting the map object to a list and print the result\n",
        "print(\"Original list:\", words)\n",
        "print(\"Lengths of each word:\", list(lengths))\n",
        "\n"
      ],
      "metadata": {
        "colab": {
          "base_uri": "https://localhost:8080/"
        },
        "id": "R4a93AqnUgTw",
        "outputId": "e8b38e42-dfd2-45b9-8bd5-d20f2a062f14"
      },
      "execution_count": null,
      "outputs": [
        {
          "output_type": "stream",
          "name": "stdout",
          "text": [
            "Original list: ['apple', 'banana', 'cherry', 'date']\n",
            "Lengths of each word: [5, 6, 6, 4]\n"
          ]
        }
      ]
    },
    {
      "cell_type": "markdown",
      "source": [
        "6.How can you use the `map()` function to apply a custom function to elements of multiple lists simultaneously in Python?\n"
      ],
      "metadata": {
        "id": "HnaqgmSLU1Hn"
      }
    },
    {
      "cell_type": "markdown",
      "source": [
        "\n",
        "\n",
        "To use the map() function to apply a custom function to elements of multiple lists simultaneously, you can pass multiple iterables (lists) to map(). The custom function should be designed to accept as many arguments as there are iterables."
      ],
      "metadata": {
        "id": "B5GECcdrU-MC"
      }
    },
    {
      "cell_type": "code",
      "source": [
        "#code\n",
        "\n",
        "#custom function\n",
        "def add_elements(x, y):\n",
        "    return x + y\n",
        "\n",
        "list1 = [1, 2, 3, 4]\n",
        "list2 = [5, 6, 7, 8]\n",
        "\n",
        "# Applying the add_elements function to elements from list1 and list2\n",
        "result = map(add_elements, list1, list2)\n",
        "\n",
        "# Converting the map object to a list and printing the result\n",
        "print(\"List 1:\", list1)\n",
        "print(\"List 2:\", list2)\n",
        "print(\"Sum of elements:\", list(result))\n",
        "\n"
      ],
      "metadata": {
        "colab": {
          "base_uri": "https://localhost:8080/"
        },
        "id": "9shzBz8JUtGL",
        "outputId": "d90314c8-7fa7-45bd-b027-8438a3fd14e8"
      },
      "execution_count": null,
      "outputs": [
        {
          "output_type": "stream",
          "name": "stdout",
          "text": [
            "List 1: [1, 2, 3, 4]\n",
            "List 2: [5, 6, 7, 8]\n",
            "Sum of elements: [6, 8, 10, 12]\n"
          ]
        }
      ]
    },
    {
      "cell_type": "markdown",
      "source": [
        "7.Create a Python program that uses `map()` to convert a list of temperatures from Celsius to Fahrenheit.\n"
      ],
      "metadata": {
        "id": "r61qAPJYVT1G"
      }
    },
    {
      "cell_type": "code",
      "source": [
        "#Python program that uses map() to convert a list of temperatures from Celsius to Fahrenheit.\n",
        "\n",
        "# Defining the function to convert Celsius to Fahrenheit\n",
        "def celsius_to_fahrenheit(celsius):\n",
        "    return (celsius * 9/5) + 32\n",
        "\n",
        "# List of temperatures in Celsius\n",
        "celsius_temps = [0, 20, 37, 100]\n",
        "\n",
        "# Using map() to apply the celsius_to_fahrenheit function to each element of the list\n",
        "fahrenheit_temps = map(celsius_to_fahrenheit, celsius_temps)\n",
        "\n",
        "# Converting the map object to a list and print the result\n",
        "print(\"Celsius temperatures:\", celsius_temps)\n",
        "print(\"Fahrenheit temperatures:\", list(fahrenheit_temps))\n",
        "\n"
      ],
      "metadata": {
        "colab": {
          "base_uri": "https://localhost:8080/"
        },
        "id": "b4QjQp_FVR4A",
        "outputId": "6e71a4c6-f080-413d-9ad6-8a91500741db"
      },
      "execution_count": null,
      "outputs": [
        {
          "output_type": "stream",
          "name": "stdout",
          "text": [
            "Celsius temperatures: [0, 20, 37, 100]\n",
            "Fahrenheit temperatures: [32.0, 68.0, 98.6, 212.0]\n"
          ]
        }
      ]
    },
    {
      "cell_type": "markdown",
      "source": [
        "8.Write a Python program that uses the `map()` function to round each element of a list of floating-point numbers to the nearest integer.\n"
      ],
      "metadata": {
        "id": "b5Ptl7ZeVjNg"
      }
    },
    {
      "cell_type": "code",
      "source": [
        "#Python program that uses the map() function to round each element of a list of floating-point numbers to the nearest integer.\n",
        "\n",
        "# List of floating-point numbers\n",
        "float_numbers = [1.2, 2.5, 3.7, 4.4, 5.9]\n",
        "\n",
        "# Using map() to apply the round() function to each element of the list\n",
        "rounded_numbers = map(round, float_numbers)\n",
        "\n",
        "# Converting  the map object to a list and print the result\n",
        "print(\"Original floating-point numbers:\", float_numbers)\n",
        "print(\"Rounded numbers:\", list(rounded_numbers))\n",
        "\n"
      ],
      "metadata": {
        "colab": {
          "base_uri": "https://localhost:8080/"
        },
        "id": "czKSXFswVhPm",
        "outputId": "c027c7f0-697c-44f7-bb2e-f75465d3b632"
      },
      "execution_count": null,
      "outputs": [
        {
          "output_type": "stream",
          "name": "stdout",
          "text": [
            "Original floating-point numbers: [1.2, 2.5, 3.7, 4.4, 5.9]\n",
            "Rounded numbers: [1, 2, 4, 4, 6]\n"
          ]
        }
      ]
    },
    {
      "cell_type": "markdown",
      "source": [
        "REDUCE\n"
      ],
      "metadata": {
        "id": "rnCohnG5Vx2J"
      }
    },
    {
      "cell_type": "markdown",
      "source": [
        "1.What is the `reduce()` function in Python, and what module should you import to use it? Provide an example of its basic usage.\n"
      ],
      "metadata": {
        "id": "Dh7KtwEQV14q"
      }
    },
    {
      "cell_type": "markdown",
      "source": [
        "The reduce() function in Python is used to apply a binary function (a function that takes two arguments) cumulatively to the items of an iterable (like a list), reducing the iterable to a single value. The reduce() function is part of the functools module, so you need to import it from there before using it."
      ],
      "metadata": {
        "id": "8d7KtP3pV6wq"
      }
    },
    {
      "cell_type": "code",
      "source": [
        "#basic code for multiplication of all numbers\n",
        "\n",
        "from functools import reduce\n",
        "\n",
        "# List of numbers\n",
        "numbers = [1, 2, 3, 4, 5]\n",
        "\n",
        "# Function to multiply two numbers\n",
        "def multiply(x, y):\n",
        "    return x * y\n",
        "\n",
        "# Using reduce to apply the multiply function to the list\n",
        "product = reduce(multiply, numbers)\n",
        "\n",
        "# Printing the result\n",
        "print(\"The product of all numbers:\", product)\n",
        "\n"
      ],
      "metadata": {
        "colab": {
          "base_uri": "https://localhost:8080/"
        },
        "id": "yTACze5-Vwsb",
        "outputId": "36e5b594-46ae-4a5d-9c65-b5a74fb642d0"
      },
      "execution_count": null,
      "outputs": [
        {
          "output_type": "stream",
          "name": "stdout",
          "text": [
            "The product of all numbers: 120\n"
          ]
        }
      ]
    },
    {
      "cell_type": "markdown",
      "source": [
        "2.Write a Python program that uses the `reduce()` function to find the product of all elements in a list.\n"
      ],
      "metadata": {
        "id": "k_XaFVoEWTIK"
      }
    },
    {
      "cell_type": "code",
      "source": [
        "# a Python program that uses the reduce() function to find the product of all elements in a list.\n",
        "from functools import reduce\n",
        "\n",
        "# List of numbers\n",
        "numbers = [2, 3, 4, 5]\n",
        "\n",
        "# Function to multiply two numbers\n",
        "def multiply(x, y):\n",
        "    return x * y\n",
        "\n",
        "# Using reduce to apply the multiply function to the list\n",
        "product = reduce(multiply, numbers)\n",
        "\n",
        "# Printing the result\n",
        "print(\"The product of all numbers in the list:\", product)\n",
        "\n"
      ],
      "metadata": {
        "colab": {
          "base_uri": "https://localhost:8080/"
        },
        "id": "YxxymVmmWSAt",
        "outputId": "533fd001-4152-4bc2-9069-53a99f04b870"
      },
      "execution_count": null,
      "outputs": [
        {
          "output_type": "stream",
          "name": "stdout",
          "text": [
            "The product of all numbers in the list: 120\n"
          ]
        }
      ]
    },
    {
      "cell_type": "markdown",
      "source": [
        "3.Create a Python program that uses `reduce()` to find the maximum element in a list of numbers."
      ],
      "metadata": {
        "id": "vPOSlbfsWfWL"
      }
    },
    {
      "cell_type": "code",
      "source": [
        "#Python program that uses reduce() to find the maximum element in a list of numbers.\n",
        "from functools import reduce\n",
        "\n",
        "# List of numbers\n",
        "numbers = [3, 7, 2, 9, 4, 1]\n",
        "\n",
        "# Function to find the maximum of two numbers\n",
        "def find_max(x, y):\n",
        "    return x if x > y else y\n",
        "\n",
        "# Using reduce to apply the find_max function to the list\n",
        "max_number = reduce(find_max, numbers)\n",
        "\n",
        "# Printing the result\n",
        "print(\"The maximum number in the list:\", max_number)\n",
        "\n"
      ],
      "metadata": {
        "colab": {
          "base_uri": "https://localhost:8080/"
        },
        "id": "Ox34A5RCWd9E",
        "outputId": "3c68148e-c828-42a9-bc50-5c8b6ee77cd0"
      },
      "execution_count": null,
      "outputs": [
        {
          "output_type": "stream",
          "name": "stdout",
          "text": [
            "The maximum number in the list: 9\n"
          ]
        }
      ]
    },
    {
      "cell_type": "markdown",
      "source": [
        "4.How can you use the `reduce()` function to concatenate a list of strings into a single string?\n"
      ],
      "metadata": {
        "id": "I_iYcw6AWtmC"
      }
    },
    {
      "cell_type": "code",
      "source": [
        "from functools import reduce\n",
        "\n",
        "# List of strings\n",
        "strings = [\"Hello\", \" \", \"world\", \"!\", \" \", \"How\", \" \", \"are\", \" \", \"you?\"]\n",
        "\n",
        "# Function to concatenate two strings\n",
        "def concatenate(x, y):\n",
        "    return x + y\n",
        "\n",
        "# Using reduce to apply the concatenate function to the list\n",
        "result = reduce(concatenate, strings)\n",
        "\n",
        "# Printing the result\n",
        "print(\"Concatenated string:\", result)\n"
      ],
      "metadata": {
        "colab": {
          "base_uri": "https://localhost:8080/"
        },
        "id": "T5CsZAayWrqz",
        "outputId": "0a0d34ee-4a7f-4034-c3ed-81bceaf23061"
      },
      "execution_count": null,
      "outputs": [
        {
          "output_type": "stream",
          "name": "stdout",
          "text": [
            "Concatenated string: Hello world! How are you?\n"
          ]
        }
      ]
    },
    {
      "cell_type": "code",
      "source": [],
      "metadata": {
        "id": "T1lRyOSQW_ik"
      },
      "execution_count": null,
      "outputs": []
    },
    {
      "cell_type": "markdown",
      "source": [
        "5.Write a Python program that calculates the factorial of a number using the `reduce()` function.\n",
        "\n",
        "\n"
      ],
      "metadata": {
        "id": "W8M6v5XKXBcV"
      }
    },
    {
      "cell_type": "code",
      "source": [
        "#Python program that calculates the factorial of a number using the reduce() function.\n",
        "\n",
        "from functools import reduce\n",
        "\n",
        "# Function to calculate factorial\n",
        "def factorial(n):\n",
        "    if n < 0:\n",
        "        raise ValueError(\"Factorial is not defined for negative numbers.\")\n",
        "    elif n == 0 or n == 1:\n",
        "        return 1\n",
        "    else:\n",
        "        return reduce(lambda x, y: x * y, range(1, n + 1))\n",
        "\n",
        "# Taking user input\n",
        "try:\n",
        "    number = int(input(\"Enter a non-negative integer: \"))\n",
        "    result = factorial(number)\n",
        "    print(f\"The factorial of {number} is: {result}\")\n",
        "except ValueError as ve:\n",
        "    print(\"Error:\", ve)\n",
        "\n"
      ],
      "metadata": {
        "colab": {
          "base_uri": "https://localhost:8080/"
        },
        "id": "nEtpHc5QXEWU",
        "outputId": "0bc86396-0623-43b0-9a55-12e1b72a4060"
      },
      "execution_count": null,
      "outputs": [
        {
          "output_type": "stream",
          "name": "stdout",
          "text": [
            "Enter a non-negative integer: 5\n",
            "The factorial of 5 is: 120\n"
          ]
        }
      ]
    },
    {
      "cell_type": "code",
      "source": [],
      "metadata": {
        "id": "KEJpl10JXVC3"
      },
      "execution_count": null,
      "outputs": []
    },
    {
      "cell_type": "markdown",
      "source": [
        "6.Create a Python program that uses `reduce()` to find the GCD (Greatest Common Divisor) of a list of numbers."
      ],
      "metadata": {
        "id": "YPTizaCRXXea"
      }
    },
    {
      "cell_type": "code",
      "source": [
        "#Python program that uses reduce() to find the GCD (Greatest Common Divisor) of a list of numbers.\n",
        "\n",
        "from functools import reduce\n",
        "import math\n",
        "\n",
        "# Function to calculate GCD of two numbers\n",
        "def gcd(a, b):\n",
        "    return math.gcd(a, b)\n",
        "\n",
        "# Function to calculate GCD of a list using reduce\n",
        "def find_gcd(numbers):\n",
        "    return reduce(gcd, numbers)\n",
        "\n",
        "#  list of numbers\n",
        "numbers = [48, 64, 80]\n",
        "\n",
        "# Calculating GCD\n",
        "result = find_gcd(numbers)\n",
        "\n",
        "# Printing the result\n",
        "print(f\"The GCD of the list {numbers} is: {result}\")\n",
        "\n"
      ],
      "metadata": {
        "colab": {
          "base_uri": "https://localhost:8080/"
        },
        "id": "hP4ssbLPXbsO",
        "outputId": "7c818e53-062a-47fb-e1a2-1ce8631d7c08"
      },
      "execution_count": null,
      "outputs": [
        {
          "output_type": "stream",
          "name": "stdout",
          "text": [
            "The GCD of the list [48, 64, 80] is: 16\n"
          ]
        }
      ]
    },
    {
      "cell_type": "markdown",
      "source": [
        "7.Write a Python program that uses the `reduce()` function to find the sum of the digits of a given number.\n"
      ],
      "metadata": {
        "id": "LcTbmH9QXq1I"
      }
    },
    {
      "cell_type": "code",
      "source": [
        "# Python program that uses the reduce() function to find the sum of the digits of a given number.\n",
        "from functools import reduce\n",
        "\n",
        "# Function to calculate the sum of two digits\n",
        "def add_digits(x, y):\n",
        "    return x + y\n",
        "\n",
        "# Function to calculate the sum of the digits of a number\n",
        "def sum_of_digits(number):\n",
        "    # Convert the number to a string, then to a list of integers (digits)\n",
        "    digits = [int(digit) for digit in str(number)]\n",
        "    # Use reduce to find the sum of the digits\n",
        "    return reduce(add_digits, digits)\n",
        "\n",
        "# Input number\n",
        "number = int(input(\"enter num\"))\n",
        "\n",
        "# Calculating the sum of the digits\n",
        "result = sum_of_digits(number)\n",
        "\n",
        "# Printing the result\n",
        "print(f\"The sum of the digits of the number {number} is: {result}\")\n",
        "\n"
      ],
      "metadata": {
        "colab": {
          "base_uri": "https://localhost:8080/"
        },
        "id": "hRGSonXGXnkv",
        "outputId": "4a013299-e65f-444e-8369-b22d908fe173"
      },
      "execution_count": null,
      "outputs": [
        {
          "output_type": "stream",
          "name": "stdout",
          "text": [
            "enter num2132\n",
            "The sum of the digits of the number 2132 is: 8\n"
          ]
        }
      ]
    },
    {
      "cell_type": "markdown",
      "source": [
        "FILTER"
      ],
      "metadata": {
        "id": "cWKPCFfWYBbg"
      }
    },
    {
      "cell_type": "markdown",
      "source": [
        "1.Explain the purpose of the `filter()` function in Python and provide an example of how it can be used to filter elements from an iterable.\n"
      ],
      "metadata": {
        "id": "oQosLGx6YKgH"
      }
    },
    {
      "cell_type": "markdown",
      "source": [
        "The filter() function in Python is used to create a new iterable containing only the elements from the original iterable that satisfy a specific condition. This condition is defined by a function that returns either True or False. The filter() function iterates over each element of the input iterable and includes the element in the output if the condition function returns True.\n",
        "\n",
        "\n",
        "\n",
        "\n",
        "syntax:\n",
        "\n",
        "filter(function, iterable)\n",
        "\n",
        "\n",
        "\n",
        "\n",
        "function: A function that tests each element. It should return True if the element meets the condition and False otherwise. If None is passed instead of a function, filter() simply returns the elements that are True in a boolean context.\n",
        "\n",
        "\n",
        "\n",
        "\n",
        "iterable: An iterable like a list, tuple, or string.\n",
        "\n",
        "\n",
        "\n"
      ],
      "metadata": {
        "id": "QRKT6Le8YOuK"
      }
    },
    {
      "cell_type": "code",
      "source": [
        "#basic code to filter even numbers from a list\n",
        "# Function to check if a number is even\n",
        "def is_even(num):\n",
        "    return num % 2 == 0\n",
        "\n",
        "# List of numbers\n",
        "numbers = [1, 2, 3, 4, 5, 6, 7, 8, 9, 10]\n",
        "\n",
        "# Using filter to get even numbers\n",
        "even_numbers = list(filter(is_even, numbers))\n",
        "\n",
        "# printing the result\n",
        "print(even_numbers)\n"
      ],
      "metadata": {
        "colab": {
          "base_uri": "https://localhost:8080/"
        },
        "id": "aeAizuuSYhvi",
        "outputId": "d0d69288-dfc5-42a0-8112-d11dc90e17cd"
      },
      "execution_count": null,
      "outputs": [
        {
          "output_type": "stream",
          "name": "stdout",
          "text": [
            "[2, 4, 6, 8, 10]\n"
          ]
        }
      ]
    },
    {
      "cell_type": "markdown",
      "source": [
        "2.Write a Python program that uses the `filter()` function to select even numbers from a list of integers.\n"
      ],
      "metadata": {
        "id": "R3jtbUA8YsTb"
      }
    },
    {
      "cell_type": "code",
      "source": [
        "# Defining a function that checks if a number is even\n",
        "def is_even(number):\n",
        "    return number % 2 == 0\n",
        "\n",
        "# List of integers\n",
        "numbers = [1, 3, 4, 7, 10, 13, 18, 21, 24]\n",
        "\n",
        "# Using filter() to select even numbers from the list\n",
        "even_numbers = list(filter(is_even, numbers))\n",
        "\n",
        "# Printing the list of even numbers\n",
        "print(\"Even numbers:\", even_numbers)\n"
      ],
      "metadata": {
        "colab": {
          "base_uri": "https://localhost:8080/"
        },
        "id": "UyWcuqikYvn1",
        "outputId": "a8d8b0e0-46b3-4815-f1d5-88864f04d89f"
      },
      "execution_count": null,
      "outputs": [
        {
          "output_type": "stream",
          "name": "stdout",
          "text": [
            "Even numbers: [4, 10, 18, 24]\n"
          ]
        }
      ]
    },
    {
      "cell_type": "markdown",
      "source": [
        "3.Create a Python program that uses the `filter()` function to select names that start with a specific letter from a list of strings.\n"
      ],
      "metadata": {
        "id": "GdVpiBgDY3-h"
      }
    },
    {
      "cell_type": "code",
      "source": [
        "# Defining a function that checks if a name starts with a specific letter\n",
        "def starts_with(letter, name):\n",
        "    return name.startswith(letter)\n",
        "\n",
        "# List of names\n",
        "names = [\"Alice\", \"Bob\", \"Charlie\", \"David\", \"Eva\", \"Frank\"]\n",
        "\n",
        "# Letter to filter names by\n",
        "specific_letter = input(\"enter character:\")\n",
        "\n",
        "# Using filter() to select names that start with the specified letter\n",
        "filtered_names = list(filter(lambda name: starts_with(specific_letter, name), names))\n",
        "\n",
        "# Printing the list of filtered names\n",
        "print(f\"Names that start with '{specific_letter}':\", filtered_names)\n"
      ],
      "metadata": {
        "colab": {
          "base_uri": "https://localhost:8080/"
        },
        "id": "rVcPvUowY815",
        "outputId": "15321a0d-d184-4461-b6b8-7cf61bbfef05"
      },
      "execution_count": null,
      "outputs": [
        {
          "output_type": "stream",
          "name": "stdout",
          "text": [
            "enter character:a\n",
            "Names that start with 'a': []\n"
          ]
        }
      ]
    },
    {
      "cell_type": "markdown",
      "source": [
        "4.Write a Python program that uses the `filter()` function to select prime numbers from a list of integers.\n"
      ],
      "metadata": {
        "id": "Hjs8_WERZOCE"
      }
    },
    {
      "cell_type": "code",
      "source": [
        "# Function to check if a number is prime\n",
        "def is_prime(number):\n",
        "    if number <= 1:\n",
        "        return False\n",
        "    if number <= 3:\n",
        "        return True\n",
        "    if number % 2 == 0 or number % 3 == 0:\n",
        "        return False\n",
        "    i = 5\n",
        "    while i * i <= number:\n",
        "        if number % i == 0 or number % (i + 2) == 0:\n",
        "            return False\n",
        "        i += 6\n",
        "    return True\n",
        "\n",
        "# List of integers\n",
        "numbers = [10, 15, 23, 37, 44, 53, 61, 75, 81]\n",
        "\n",
        "# Using filter() to select prime numbers from the list\n",
        "prime_numbers = list(filter(is_prime, numbers))\n",
        "\n",
        "# Printing the list of prime numbers\n",
        "print(\"Prime numbers:\", prime_numbers)\n"
      ],
      "metadata": {
        "colab": {
          "base_uri": "https://localhost:8080/"
        },
        "id": "EF35TRFmZRyT",
        "outputId": "39fbbf22-dcf8-4ef8-da69-5e5b8e81a7b9"
      },
      "execution_count": null,
      "outputs": [
        {
          "output_type": "stream",
          "name": "stdout",
          "text": [
            "Prime numbers: [23, 37, 53, 61]\n"
          ]
        }
      ]
    },
    {
      "cell_type": "markdown",
      "source": [
        "5.How can you use the `filter()` function to remove None values from a list in Python?\n"
      ],
      "metadata": {
        "id": "7IhOfQbIZbcS"
      }
    },
    {
      "cell_type": "markdown",
      "source": [
        "to remove None values from a list using the filter() function, we can use a lambda function that returns True for non-None values and False for None values."
      ],
      "metadata": {
        "id": "r8s-XJC4ZpN1"
      }
    },
    {
      "cell_type": "code",
      "source": [
        "# List with some None values\n",
        "data = [1, None, 2, None, 3, None, 4, 5]\n",
        "\n",
        "# Using filter() to remove None values from the list\n",
        "filtered_data = list(filter(lambda x: x is not None, data))\n",
        "\n",
        "# Printing the filtered list\n",
        "print(\"List after removing None values:\", filtered_data)\n"
      ],
      "metadata": {
        "colab": {
          "base_uri": "https://localhost:8080/"
        },
        "id": "jbLzl_FfZfB_",
        "outputId": "1d2eb366-5748-4d80-f730-e36551d6dab8"
      },
      "execution_count": null,
      "outputs": [
        {
          "output_type": "stream",
          "name": "stdout",
          "text": [
            "List after removing None values: [1, 2, 3, 4, 5]\n"
          ]
        }
      ]
    },
    {
      "cell_type": "markdown",
      "source": [
        "6.Create a Python program that uses `filter()` to select words longer than a certain length from a list of strings."
      ],
      "metadata": {
        "id": "9Q9997r-ZvCR"
      }
    },
    {
      "cell_type": "code",
      "source": [
        "# Function to check if a word is longer than a given length\n",
        "def longer_than(length, word):\n",
        "    return len(word) > length\n",
        "\n",
        "# List of words\n",
        "words = [\"apple\", \"banana\", \"cherry\", \"date\", \"fig\", \"grape\", \"kiwi\"]\n",
        "\n",
        "# Specifying the minimum length\n",
        "min_length = int(input('enter min_length:'))\n",
        "\n",
        "# Using filter() to select words longer than the specified length\n",
        "filtered_words = list(filter(lambda word: longer_than(min_length, word), words))\n",
        "\n",
        "# Printing the filtered list of words\n",
        "print(f\"Words longer than {min_length} characters:\", filtered_words)\n"
      ],
      "metadata": {
        "colab": {
          "base_uri": "https://localhost:8080/"
        },
        "id": "TcWsdzOwZyUZ",
        "outputId": "ad452fd6-7bbf-4928-a7c0-d09b6ee486bb"
      },
      "execution_count": null,
      "outputs": [
        {
          "output_type": "stream",
          "name": "stdout",
          "text": [
            "enter min_length:4\n",
            "Words longer than 4 characters: ['apple', 'banana', 'cherry', 'grape']\n"
          ]
        }
      ]
    },
    {
      "cell_type": "markdown",
      "source": [
        "7.Write a Python program that uses the `filter()` function to select elements greater than a specified threshold from a list of values.\n"
      ],
      "metadata": {
        "id": "a2qhpFRwaC6P"
      }
    },
    {
      "cell_type": "code",
      "source": [
        "#Python program that uses the filter() function to select elements greater than a specified threshold from a list of values.\n",
        "# Function to check if a value is greater than the threshold\n",
        "def greater_than(threshold, value):\n",
        "    return value > threshold\n",
        "\n",
        "# List of values\n",
        "values = [5, 12, 7, 20, 3, 15, 8]\n",
        "\n",
        "# Specifying the threshold\n",
        "threshold = int(input(\"enter threshold value:\"))\n",
        "\n",
        "# Using filter() to select values greater than the specified threshold\n",
        "filtered_values = list(filter(lambda x: greater_than(threshold, x), values))\n",
        "\n",
        "# Printing the filtered list of values\n",
        "print(f\"Values greater than {threshold}:\", filtered_values)\n",
        "\n"
      ],
      "metadata": {
        "colab": {
          "base_uri": "https://localhost:8080/"
        },
        "id": "E_jrVq5waHze",
        "outputId": "b005c492-31a7-4bd2-a82c-3ecb0f396ea0"
      },
      "execution_count": null,
      "outputs": [
        {
          "output_type": "stream",
          "name": "stdout",
          "text": [
            "enter threshold value:12\n",
            "Values greater than 12: [20, 15]\n"
          ]
        }
      ]
    },
    {
      "cell_type": "markdown",
      "source": [
        "RECURSION:"
      ],
      "metadata": {
        "id": "aUw1qa_9aaHf"
      }
    },
    {
      "cell_type": "markdown",
      "source": [
        "1.Explain the concept of recursion in Python. How does it differ from iteration?\n"
      ],
      "metadata": {
        "id": "iJYy7VjBarxC"
      }
    },
    {
      "cell_type": "markdown",
      "source": [
        "Recursion and iteration are two fundamental concepts used to solve problems in programming\n"
      ],
      "metadata": {
        "id": "NibWqo_AawSN"
      }
    },
    {
      "cell_type": "markdown",
      "source": [
        "Recursion\n",
        "\n",
        " Recursion is a technique where a function calls itself to solve a problem. Each recursive call solves a smaller instance of the problem, eventually reaching a base case that terminates the recursion.\n",
        "\n",
        "\n",
        "\n",
        "Key Components:\n",
        "\n",
        "\n",
        "Base Case: This is the condition under which the recursion stops. It prevents infinite recursion by providing a simple, non-recursive solution.\n",
        "Recursive Case: This is the part of the function where the function calls itself with a modified argument to work towards the base case."
      ],
      "metadata": {
        "id": "kjHSlbrMa6JL"
      }
    },
    {
      "cell_type": "markdown",
      "source": [
        "Iteration\n",
        "Iteration is a technique where a loop (such as for or while) is used to repeatedly execute a block of code until a certain condition is met.\n",
        "\n",
        "Key Components:\n",
        "\n",
        "Initialization: Setting up the starting point for the loop.\n",
        "Condition: The condition that determines when the loop should stop.\n",
        "Update: Modifying the loop variable to eventually meet the stopping condition."
      ],
      "metadata": {
        "id": "qmWZ9GIwbD-D"
      }
    },
    {
      "cell_type": "markdown",
      "source": [
        "Differences Between Recursion and Iteration\n",
        "\n",
        "\n",
        "Method of Problem Solving:\n",
        "\n",
        "Recursion: Breaks the problem into smaller instances of itself and solves each instance using the same function.\n",
        "\n",
        "Iteration: Repeats a block of code until a condition is met.\n",
        "\n",
        "\n",
        "State Management:\n",
        "\n",
        "Recursion: Uses the call stack to manage state across recursive calls. Each recursive call has its own stack frame.\n",
        "Iteration: Uses loop control variables and a single block of code to manage state.\n",
        "\n",
        "\n",
        "\n",
        "Performance:\n",
        "\n",
        "Recursion: Can lead to higher memory usage due to multiple function calls and stack frames. It may be less efficient if not optimized.\n",
        "\n",
        "Iteration: Typically more memory-efficient and faster as it does not involve the overhead of multiple function calls.\n",
        "\n",
        "\n",
        "Complexity:\n",
        "\n",
        "Recursion: Can be simpler to implement for problems naturally defined recursively (e.g., tree traversals, factorial).\n",
        "Iteration: Often preferred for straightforward repetitive tasks due to lower overhead and better performance.\n",
        "\n",
        "\n",
        "Use Cases:\n",
        "\n",
        "\n",
        "Recursion: Suitable for problems that can be divided into similar subproblems (e.g., divide-and-conquer algorithms).\n",
        "\n",
        "Iteration: Best for problems that require straightforward repetition or looping (e.g., traversing a list)."
      ],
      "metadata": {
        "id": "EN_MEL6YbLPG"
      }
    },
    {
      "cell_type": "code",
      "source": [
        "#example code for factorail\n",
        "\n",
        "#using recursion\n",
        "\n",
        "def factorial(n):\n",
        "    # Base case: factorial of 0 or 1 is 1\n",
        "    if n <= 1:\n",
        "        return 1\n",
        "    # Recursive case: n * factorial of (n-1)\n",
        "    else:\n",
        "        return n * factorial(n - 1)\n",
        "\n",
        "print(factorial(5))\n",
        "\n",
        "\n",
        "#using iteration\n",
        "\n",
        "def factorial(n):\n",
        "    # Base case: factorial of 0 or 1 is 1\n",
        "    if n <= 1:\n",
        "        return 1\n",
        "    # Recursive case: n * factorial of (n-1)\n",
        "    else:\n",
        "        return n * factorial(n - 1)\n",
        "\n",
        "print(factorial(5))\n"
      ],
      "metadata": {
        "colab": {
          "base_uri": "https://localhost:8080/"
        },
        "id": "fyCPHZPzbAol",
        "outputId": "5b92c8fa-f37b-47bc-e314-354b563299bf"
      },
      "execution_count": null,
      "outputs": [
        {
          "output_type": "stream",
          "name": "stdout",
          "text": [
            "120\n",
            "120\n"
          ]
        }
      ]
    },
    {
      "cell_type": "markdown",
      "source": [
        "2.Write a Python program to calculate the factorial of a number using recursion."
      ],
      "metadata": {
        "id": "oy35ildpb1Oh"
      }
    },
    {
      "cell_type": "code",
      "source": [
        "def factorial(n):\n",
        "    # Base case: factorial of 0 or 1 is 1\n",
        "    if n == 0 or n == 1:\n",
        "        return 1\n",
        "    # Recursive case: n * factorial of (n-1)\n",
        "    else:\n",
        "        return n * factorial(n - 1)\n",
        "\n",
        "# taking a number from the user\n",
        "number = int(input(\"Enter a number to calculate its factorial: \"))\n",
        "\n",
        "# Ensuring the number is non-negative\n",
        "if number < 0:\n",
        "    print(\"Factorial is not defined for negative numbers.\")\n",
        "else:\n",
        "    # Calculating  and print the factorial\n",
        "    result = factorial(number)\n",
        "    print(f\"The factorial of {number} is {result}.\")\n"
      ],
      "metadata": {
        "colab": {
          "base_uri": "https://localhost:8080/"
        },
        "id": "P_D68QlbbkGx",
        "outputId": "672c38ce-9773-41ec-c01f-d6e73839fa38"
      },
      "execution_count": null,
      "outputs": [
        {
          "output_type": "stream",
          "name": "stdout",
          "text": [
            "Enter a number to calculate its factorial: 5\n",
            "The factorial of 5 is 120.\n"
          ]
        }
      ]
    },
    {
      "cell_type": "markdown",
      "source": [
        "3.Create a recursive Python function to find the nth Fibonacci number.\n"
      ],
      "metadata": {
        "id": "bTOGdLB_cKM1"
      }
    },
    {
      "cell_type": "code",
      "source": [
        "def fibonacci(n):\n",
        "    # Base case: the first two Fibonacci numbers are 0 and 1\n",
        "    if n <= 0:\n",
        "        return 0\n",
        "    elif n == 1:\n",
        "        return 1\n",
        "    # Recursive case: the sum of the previous two Fibonacci numbers\n",
        "    else:\n",
        "        return fibonacci(n - 1) + fibonacci(n - 2)\n",
        "\n",
        "# taking a number from the user\n",
        "n = int(input(\"Enter the position (n) to find the nth Fibonacci number: \"))\n",
        "\n",
        "# Calculating and print the nth Fibonacci number\n",
        "if n < 0:\n",
        "    print(\"Fibonacci number is not defined for negative indices.\")\n",
        "else:\n",
        "    result = fibonacci(n)\n",
        "    print(f\"The Fibonacci number at position {n} is {result}.\")\n"
      ],
      "metadata": {
        "colab": {
          "base_uri": "https://localhost:8080/"
        },
        "id": "y_RTig94cIZ4",
        "outputId": "573a7d10-2396-405e-c1c7-1b8e8b65f264"
      },
      "execution_count": null,
      "outputs": [
        {
          "output_type": "stream",
          "name": "stdout",
          "text": [
            "Enter the position (n) to find the nth Fibonacci number: 5\n",
            "The Fibonacci number at position 5 is 5.\n"
          ]
        }
      ]
    },
    {
      "cell_type": "markdown",
      "source": [
        "4.Write a recursive Python function to calculate the sum of all elements in a list.\n"
      ],
      "metadata": {
        "id": "MS8nqTiUcZ7e"
      }
    },
    {
      "cell_type": "code",
      "source": [
        "def recursive_sum(lst):\n",
        "    # Base case: if the list is empty, the sum is 0\n",
        "    if not lst:\n",
        "        return 0\n",
        "    # Recursive case: sum of the first element plus the sum of the rest of the list\n",
        "    else:\n",
        "        return lst[0] + recursive_sum(lst[1:])\n",
        "\n",
        "# taking a list of numbers from the user\n",
        "input_list = input(\"Enter a list of numbers separated by spaces: \").split()\n",
        "# Convert the input list from strings to integers\n",
        "numbers = [int(x) for x in input_list]\n",
        "\n",
        "# Calculating and print the sum of the list\n",
        "total_sum = recursive_sum(numbers)\n",
        "print(f\"The sum of all elements in the list is {total_sum}.\")\n"
      ],
      "metadata": {
        "colab": {
          "base_uri": "https://localhost:8080/"
        },
        "id": "vi4IjJTccT-k",
        "outputId": "6083dff6-6a40-43ee-8b0c-534488665881"
      },
      "execution_count": null,
      "outputs": [
        {
          "output_type": "stream",
          "name": "stdout",
          "text": [
            "Enter a list of numbers separated by spaces: 3 4 5 6\n",
            "The sum of all elements in the list is 18.\n"
          ]
        }
      ]
    },
    {
      "cell_type": "markdown",
      "source": [
        "5.How can you prevent a recursive function from running indefinitely, causing a stack overflow error?"
      ],
      "metadata": {
        "id": "PsjgAAXcco5P"
      }
    },
    {
      "cell_type": "markdown",
      "source": [
        "To prevent a recursive function from running indefinitely and causing a stack overflow error, we need to ensure that the recursion eventually reaches a base case, which halts the recursion."
      ],
      "metadata": {
        "id": "v5UxiLVNct4j"
      }
    },
    {
      "cell_type": "markdown",
      "source": [
        "we have to Ensure that our recursive function has well-defined base cases that will be met for some input. The base case is the condition under which the function returns a result without making further recursive calls."
      ],
      "metadata": {
        "id": "ctP6HBQQc5Ow"
      }
    },
    {
      "cell_type": "markdown",
      "source": [
        "Make sure that each recursive call progresses towards the base case. This means modifying the input in each recursive call in such a way that it eventually satisfies the base case."
      ],
      "metadata": {
        "id": "BdYBuCWqdFpg"
      }
    },
    {
      "cell_type": "code",
      "source": [
        "#code example for factorial\n",
        "def factorial(n):\n",
        "    # Base case: factorial of 0 or 1 is 1\n",
        "    if n == 0 or n == 1:\n",
        "        return 1\n",
        "    # Recursive case: n * factorial of (n-1)\n",
        "    else:\n",
        "        return n * factorial(n - 1)\n",
        "\n",
        "# taking a number from the user\n",
        "number = int(input(\"Enter a number to calculate its factorial: \"))\n",
        "\n",
        "# Ensureing the number is non-negative\n",
        "if number < 0:\n",
        "    print(\"Factorial is not defined for negative numbers.\")\n",
        "else:\n",
        "    # Calculating and print the factorial\n",
        "    result = factorial(number)\n",
        "    print(f\"The factorial of {number} is {result}.\")\n"
      ],
      "metadata": {
        "colab": {
          "base_uri": "https://localhost:8080/"
        },
        "id": "y4ad7RGPckh-",
        "outputId": "a8078c98-44df-4004-9e49-21cabdedeec6"
      },
      "execution_count": null,
      "outputs": [
        {
          "output_type": "stream",
          "name": "stdout",
          "text": [
            "Enter a number to calculate its factorial: 5\n",
            "The factorial of 5 is 120.\n"
          ]
        }
      ]
    },
    {
      "cell_type": "markdown",
      "source": [
        "6.Create a recursive Python function to find the greatest common divisor (GCD) of two numbers using the Euclidean algorithm.\n"
      ],
      "metadata": {
        "id": "ha3TjA1fdfiK"
      }
    },
    {
      "cell_type": "code",
      "source": [
        "def gcd(a, b):\n",
        "    # Base case: if b is 0, return a\n",
        "    if b == 0:\n",
        "        return a\n",
        "    # Recursive case: call gcd with b and a % b\n",
        "    else:\n",
        "        return gcd(b, a % b)\n",
        "\n",
        "# Example usage\n",
        "num1 = int(input(\"Enter the first number: \"))\n",
        "num2 = int(input(\"Enter the second number: \"))\n",
        "\n",
        "result = gcd(num1, num2)\n",
        "print(f\"The GCD of {num1} and {num2} is {result}.\")\n"
      ],
      "metadata": {
        "colab": {
          "base_uri": "https://localhost:8080/"
        },
        "id": "Hza1K73tdcgZ",
        "outputId": "df5cf13d-f4c4-42ed-c15f-c0478549fd30"
      },
      "execution_count": null,
      "outputs": [
        {
          "output_type": "stream",
          "name": "stdout",
          "text": [
            "Enter the first number: 4\n",
            "Enter the second number: 4\n",
            "The GCD of 4 and 4 is 4.\n"
          ]
        }
      ]
    },
    {
      "cell_type": "markdown",
      "source": [
        "7.Write a recursive Python function to reverse a string.\n"
      ],
      "metadata": {
        "id": "_RCfY7pfd34W"
      }
    },
    {
      "cell_type": "code",
      "source": [
        "def reverse_string(s):\n",
        "    # Base case: if the string is empty or has only one character, return it as is\n",
        "    if len(s) <= 1:\n",
        "        return s\n",
        "    # Recursive case: reverse the substring and append the first character at the end\n",
        "    else:\n",
        "        return reverse_string(s[1:]) + s[0]\n",
        "\n",
        "# Example usage\n",
        "input_string = input(\"Enter a string to reverse: \")\n",
        "\n",
        "reversed_string = reverse_string(input_string)\n",
        "print(f\"The reversed string is: {reversed_string}\")\n"
      ],
      "metadata": {
        "colab": {
          "base_uri": "https://localhost:8080/"
        },
        "id": "wX4FDEVsds5S",
        "outputId": "1afa3099-5693-48be-c801-4e60aae21ead"
      },
      "execution_count": null,
      "outputs": [
        {
          "output_type": "stream",
          "name": "stdout",
          "text": [
            "Enter a string to reverse: saikiran\n",
            "The reversed string is: narikias\n"
          ]
        }
      ]
    },
    {
      "cell_type": "markdown",
      "source": [
        "8.Create a recursive Python function to calculate the power of a number (x^n)."
      ],
      "metadata": {
        "id": "XTLrhtKgeFF1"
      }
    },
    {
      "cell_type": "code",
      "source": [
        "def power(x, n):\n",
        "    # Base case: any number raised to the power of 0 is 1\n",
        "    if n == 0:\n",
        "        return 1\n",
        "    # Recursive case: x^n = x * x^(n-1)\n",
        "    elif n > 0:\n",
        "        return x * power(x, n - 1)\n",
        "    # Handling negative powers\n",
        "    else:\n",
        "        return 1 / power(x, -n)\n",
        "\n",
        "# Example usage\n",
        "base = float(input(\"Enter the base number: \"))\n",
        "exponent = int(input(\"Enter the exponent: \"))\n",
        "\n",
        "result = power(base, exponent)\n",
        "print(f\"{base} raised to the power of {exponent} is {result}.\")\n"
      ],
      "metadata": {
        "colab": {
          "base_uri": "https://localhost:8080/"
        },
        "id": "JGz_suEsd_uo",
        "outputId": "ea83ad4e-5ee8-4476-ff12-9bfcf89c0730"
      },
      "execution_count": null,
      "outputs": [
        {
          "output_type": "stream",
          "name": "stdout",
          "text": [
            "Enter the base number: 10\n",
            "Enter the exponent: 2\n",
            "10.0 raised to the power of 2 is 100.0.\n"
          ]
        }
      ]
    },
    {
      "cell_type": "markdown",
      "source": [
        "9.Write a recursive Python function to find all permutations of a given string.\n"
      ],
      "metadata": {
        "id": "ZGRVw-LIeRlH"
      }
    },
    {
      "cell_type": "code",
      "source": [
        "def permute(s):\n",
        "    # Base case: if the string is empty or has only one character, return it as a single permutation\n",
        "    if len(s) <= 1:\n",
        "        return [s]\n",
        "\n",
        "    # List to store all permutations\n",
        "    permutations = []\n",
        "\n",
        "    # Looping through each character in the string\n",
        "    for i in range(len(s)):\n",
        "        # Get the current character\n",
        "        char = s[i]\n",
        "        # Get the remaining characters\n",
        "        remaining = s[:i] + s[i+1:]\n",
        "\n",
        "        # Recursively find permutations of the remaining characters\n",
        "        for perm in permute(remaining):\n",
        "            permutations.append(char + perm)\n",
        "\n",
        "    return permutations\n",
        "\n",
        "# Example usage\n",
        "input_string = input(\"Enter a string to find its permutations: \")\n",
        "\n",
        "permutations = permute(input_string)\n",
        "print(f\"All permutations of '{input_string}' are:\")\n",
        "for perm in permutations:\n",
        "    print(perm)\n"
      ],
      "metadata": {
        "colab": {
          "base_uri": "https://localhost:8080/"
        },
        "id": "s3IKiLEmeM_Q",
        "outputId": "e1a64eff-d78d-4320-86ae-05c238dab256"
      },
      "execution_count": null,
      "outputs": [
        {
          "output_type": "stream",
          "name": "stdout",
          "text": [
            "Enter a string to find its permutations: sai\n",
            "All permutations of 'sai' are:\n",
            "sai\n",
            "sia\n",
            "asi\n",
            "ais\n",
            "isa\n",
            "ias\n"
          ]
        }
      ]
    },
    {
      "cell_type": "markdown",
      "source": [
        "10.Write a recursive Python function to check if a string is a palindrome.\n"
      ],
      "metadata": {
        "id": "xifkRjFleh0t"
      }
    },
    {
      "cell_type": "code",
      "source": [
        "def is_palindrome(s):\n",
        "    # Base case: an empty string or a single character string is a palindrome\n",
        "    if len(s) <= 1:\n",
        "        return True\n",
        "\n",
        "    # Check if the first and last characters are the same\n",
        "    if s[0] != s[-1]:\n",
        "        return False\n",
        "\n",
        "    # Recursively check the substring that excludes the first and last characters\n",
        "    return is_palindrome(s[1:-1])\n",
        "\n",
        "# Example usage\n",
        "input_string = input(\"Enter a string to check if it's a palindrome: \").strip()\n",
        "\n",
        "if is_palindrome(input_string):\n",
        "    print(f\"'{input_string}' is a palindrome.\")\n",
        "else:\n",
        "    print(f\"'{input_string}' is not a palindrome.\")\n"
      ],
      "metadata": {
        "colab": {
          "base_uri": "https://localhost:8080/"
        },
        "id": "NXbFjPbueeEj",
        "outputId": "b8b275bb-f2a9-4c19-c2b6-9b27fb8f3291"
      },
      "execution_count": null,
      "outputs": [
        {
          "output_type": "stream",
          "name": "stdout",
          "text": [
            "Enter a string to check if it's a palindrome: madam\n",
            "'madam' is a palindrome.\n"
          ]
        }
      ]
    },
    {
      "cell_type": "markdown",
      "source": [
        "11.Create a recursive Python function to generate all possible combinations of a list of elements.\n"
      ],
      "metadata": {
        "id": "qhLkeR8hevh0"
      }
    },
    {
      "cell_type": "code",
      "source": [
        "def generate_combinations(elements):\n",
        "    def recursive_combinations(index):\n",
        "        # Base case: if we have processed all elements\n",
        "        if index == len(elements):\n",
        "            return [[]]\n",
        "\n",
        "        # Recursively get combinations for the remaining elements\n",
        "        without_current = recursive_combinations(index + 1)\n",
        "\n",
        "        # Adding current element to each combination of the remaining elements\n",
        "        with_current = [comb + [elements[index]] for comb in without_current]\n",
        "\n",
        "        # Combining the results\n",
        "        return without_current + with_current\n",
        "\n",
        "    # Starting the recursion with the initial index\n",
        "    return recursive_combinations(0)\n",
        "\n",
        "# Example usage\n",
        "elements = [1, 2, 3]\n",
        "combinations = generate_combinations(elements)\n",
        "print(combinations)\n"
      ],
      "metadata": {
        "colab": {
          "base_uri": "https://localhost:8080/"
        },
        "id": "d_kdNjxPerDz",
        "outputId": "82d32cd0-733f-457e-a2d0-2b5f8a8657da"
      },
      "execution_count": null,
      "outputs": [
        {
          "output_type": "stream",
          "name": "stdout",
          "text": [
            "[[], [3], [2], [3, 2], [1], [3, 1], [2, 1], [3, 2, 1]]\n"
          ]
        }
      ]
    },
    {
      "cell_type": "markdown",
      "source": [
        "BASIC OF FUNCTIONS"
      ],
      "metadata": {
        "id": "Cxpd0S2sfnRw"
      }
    },
    {
      "cell_type": "markdown",
      "source": [
        "1.What is a function in Python, and why is it used?ld text"
      ],
      "metadata": {
        "id": "3trsNZIGqS_5"
      }
    },
    {
      "cell_type": "markdown",
      "source": [
        "A function in Python is a block of reusable code that performs a specific task or computation. Functions allow you to organize code into logical, manageable pieces, making it easier to understand, maintain, and reuse."
      ],
      "metadata": {
        "id": "dyplol20qYQm"
      }
    },
    {
      "cell_type": "markdown",
      "source": [
        "Key Features of a Python Function:\n",
        "\n",
        "\n",
        "Defined with def Keyword: A function is defined using the def keyword, followed by the function name and parentheses ().\n",
        "\n",
        "Parameters and Arguments: Functions can take inputs, known as parameters, that are passed when the function is called. These inputs are processed inside the function.\n",
        "\n",
        "Return Value: A function can return a value using the return statement. If no return statement is used, the function returns None.\n",
        "\n",
        "Reusable: Functions can be called multiple times throughout a program, reducing the need to write the same code repeatedly.\n",
        "\n",
        "Encapsulation: Functions allow you to encapsulate logic within a defined block, improving code organization."
      ],
      "metadata": {
        "id": "6B3fC0IsqiAF"
      }
    },
    {
      "cell_type": "markdown",
      "source": [
        " Uses of  Functions:\n",
        "\n",
        "\n",
        "Code Reusability: Instead of writing the same code multiple times, you can write a function once and reuse it wherever needed.\n",
        "\n",
        "Modularity: Functions allow you to break down complex problems into smaller, manageable parts.\n",
        "\n",
        "Maintainability: With functions, updating or fixing code becomes easier since changes can be made in one place.\n",
        "\n",
        "Clarity and Readability: Functions help organize code logically, making it easier for others (and yourself) to understand.\n",
        "\n",
        "Avoiding Redundancy: By encapsulating repetitive tasks in functions, you reduce redundancy and potential errors in your code.\n",
        "\n",
        "Using functions effectively is key to writing clean, efficient, and robust code."
      ],
      "metadata": {
        "id": "OMhw-f05qsVO"
      }
    },
    {
      "cell_type": "code",
      "source": [
        "#code\n",
        "def greet(name):\n",
        "    \"\"\"This function greets the person whose name is passed as an argument.\"\"\"\n",
        "    greeting = f\"Hello, {name}!\"\n",
        "    return greeting\n",
        "\n",
        "# Calling the function\n",
        "message = greet(\"Sai Kiran\")\n",
        "print(message)\n"
      ],
      "metadata": {
        "id": "_oDCsX4RfiAW",
        "colab": {
          "base_uri": "https://localhost:8080/"
        },
        "outputId": "0cd09d66-29bb-46cc-9244-576c2755eeab"
      },
      "execution_count": null,
      "outputs": [
        {
          "output_type": "stream",
          "name": "stdout",
          "text": [
            "Hello, Sai Kiran!\n"
          ]
        }
      ]
    },
    {
      "cell_type": "markdown",
      "source": [
        "2.How do you define a function in Python? Provide an example.\n"
      ],
      "metadata": {
        "id": "YbFOMUaVrST4"
      }
    },
    {
      "cell_type": "markdown",
      "source": [
        "In Python, a function is defined using the def keyword followed by the function name, parentheses (), and a colon :. The code block within the function (the function body) is indented."
      ],
      "metadata": {
        "id": "Ll8Xbbv2rYLR"
      }
    },
    {
      "cell_type": "markdown",
      "source": [
        "Steps to Define a Function:\n",
        "\n",
        "\n",
        "\n",
        "\n",
        "Use the def keyword: This marks the beginning of a function definition.\n",
        "\n",
        "\n",
        "\n",
        "Name the function: Choose a descriptive name that indicates the function's purpose.\n",
        "\n",
        "\n",
        "Add parameters (optional): Inside the parentheses (), specify any parameters that the function will take. If no parameters are needed, leave the parentheses empty.\n",
        "\n",
        "\n",
        "\n",
        "Write the function body: This is the indented block of code that performs the function's operations.\n",
        "\n",
        "\n",
        "Return a value (optional): If you want the function to return a value, use the return statement followed by the value or expression you want to return.\n",
        "\n",
        "\n"
      ],
      "metadata": {
        "id": "FiATnfW4rblg"
      }
    },
    {
      "cell_type": "code",
      "source": [
        "#code\n",
        "def add_numbers(a, b):\n",
        "    \"\"\"This function adds two numbers and returns the result.\"\"\"\n",
        "    result = a + b\n",
        "    return result\n",
        "add_numbers(5,3)"
      ],
      "metadata": {
        "id": "VFWwqV1SrCGh",
        "colab": {
          "base_uri": "https://localhost:8080/"
        },
        "outputId": "6534cda9-8ab6-43db-cfd3-d2fb92aca0ae"
      },
      "execution_count": null,
      "outputs": [
        {
          "output_type": "execute_result",
          "data": {
            "text/plain": [
              "8"
            ]
          },
          "metadata": {},
          "execution_count": 3
        }
      ]
    },
    {
      "cell_type": "code",
      "source": [],
      "metadata": {
        "id": "wBYLFmaOr-XM"
      },
      "execution_count": null,
      "outputs": []
    }
  ]
}